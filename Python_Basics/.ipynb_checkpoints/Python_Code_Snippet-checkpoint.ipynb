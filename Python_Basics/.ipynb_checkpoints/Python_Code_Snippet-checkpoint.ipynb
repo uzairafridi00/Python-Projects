{
 "cells": [
  {
   "cell_type": "code",
   "execution_count": 1,
   "id": "004172d7",
   "metadata": {},
   "outputs": [
    {
     "name": "stdout",
     "output_type": "stream",
     "text": [
      "Sum of square roots: 9.0\n"
     ]
    }
   ],
   "source": [
    "# To find the sum of square roots of any three numbers:\n",
    "\n",
    "import math\n",
    "\n",
    "def sum_of_square_roots(a, b, c):\n",
    "    return math.sqrt(a) + math.sqrt(b) + math.sqrt(c)\n",
    "\n",
    "# Example usage:\n",
    "result = sum_of_square_roots(4, 9, 16)\n",
    "print(\"Sum of square roots:\", result)\n"
   ]
  },
  {
   "cell_type": "code",
   "execution_count": 2,
   "id": "a55015e5",
   "metadata": {},
   "outputs": [
    {
     "name": "stdout",
     "output_type": "stream",
     "text": [
      "Sum of first 100 integers: 5050\n"
     ]
    }
   ],
   "source": [
    "# To find the sum of the first 100 integers:\n",
    "\n",
    "def sum_of_first_100_integers():\n",
    "    return sum(range(1, 101))\n",
    "\n",
    "# Example usage:\n",
    "result = sum_of_first_100_integers()\n",
    "print(\"Sum of first 100 integers:\", result)"
   ]
  },
  {
   "cell_type": "code",
   "execution_count": 3,
   "id": "b4b51c73",
   "metadata": {},
   "outputs": [
    {
     "name": "stdout",
     "output_type": "stream",
     "text": [
      "Sum of odd numbers till 100: 2500\n"
     ]
    }
   ],
   "source": [
    "# to find the sum of all odd numbers till 100:\n",
    "\n",
    "def sum_of_odd_numbers():\n",
    "    return sum([num for num in range(1, 101) if num % 2 != 0])\n",
    "\n",
    "# Example usage:\n",
    "result = sum_of_odd_numbers()\n",
    "print(\"Sum of odd numbers till 100:\", result)"
   ]
  },
  {
   "cell_type": "code",
   "execution_count": 4,
   "id": "0bf34ba2",
   "metadata": {},
   "outputs": [
    {
     "name": "stdout",
     "output_type": "stream",
     "text": [
      "Sum of five integers: 75\n"
     ]
    }
   ],
   "source": [
    "# To find the sum of any five integers:\n",
    "\n",
    "def sum_of_five_integers(numbers):\n",
    "    return sum(numbers)\n",
    "\n",
    "# Example usage:\n",
    "numbers = [5, 10, 15, 20, 25]\n",
    "result = sum_of_five_integers(numbers)\n",
    "print(\"Sum of five integers:\", result)\n"
   ]
  },
  {
   "cell_type": "code",
   "execution_count": null,
   "id": "6045fc7e",
   "metadata": {},
   "outputs": [],
   "source": [
    "# To find the sum of any five integers:\n",
    "\n",
    "def sum_of_five_integers(numbers):\n",
    "    sum = 0\n",
    "    for i in numbers:\n",
    "        sum += i\n",
    "    return sum\n",
    "    \n",
    "# Example usage:\n",
    "numbers = [5, 10, 15, 20, 25]\n",
    "result = sum_of_five_integers(numbers)\n",
    "print(\"Sum of five integers:\", result)\n"
   ]
  },
  {
   "cell_type": "code",
   "execution_count": 5,
   "id": "b9c0e3b2",
   "metadata": {},
   "outputs": [
    {
     "name": "stdout",
     "output_type": "stream",
     "text": [
      "Factorial of 5 is: 120\n"
     ]
    }
   ],
   "source": [
    "# to find the factorial of number n:\n",
    "\n",
    "def factorial(n):\n",
    "    if n == 0:\n",
    "        return 1\n",
    "    else:\n",
    "        return n * factorial(n - 1)\n",
    "\n",
    "# Example usage:\n",
    "n = 5\n",
    "result = factorial(n)\n",
    "print(\"Factorial of\", n, \"is:\", result)"
   ]
  },
  {
   "cell_type": "code",
   "execution_count": 6,
   "id": "9517dbfb",
   "metadata": {},
   "outputs": [
    {
     "name": "stdout",
     "output_type": "stream",
     "text": [
      "First 10 numbers in Fibonacci series: [0, 1, 1, 2, 3, 5, 8, 13, 21, 34]\n"
     ]
    }
   ],
   "source": [
    "# To find the first n numbers in a Fibonacci series:\n",
    "\n",
    "def fibonacci(n):\n",
    "    fib_series = [0, 1]\n",
    "    while len(fib_series) < n:\n",
    "        fib_series.append(fib_series[-1] + fib_series[-2])\n",
    "    return fib_series[:n]\n",
    "\n",
    "# Example usage:\n",
    "n = 10\n",
    "result = fibonacci(n)\n",
    "print(\"First\", n, \"numbers in Fibonacci series:\", result)"
   ]
  },
  {
   "cell_type": "code",
   "execution_count": 7,
   "id": "7998968f",
   "metadata": {},
   "outputs": [
    {
     "name": "stdout",
     "output_type": "stream",
     "text": [
      "Sum of digits of 12345 is: 15\n"
     ]
    }
   ],
   "source": [
    "# To find the sum of digits of a number:\n",
    "\n",
    "def sum_of_digits(num):\n",
    "    return sum([int(digit) for digit in str(num)])\n",
    "\n",
    "# Example usage:\n",
    "num = 12345\n",
    "result = sum_of_digits(num)\n",
    "print(\"Sum of digits of\", num, \"is:\", result)"
   ]
  },
  {
   "cell_type": "code",
   "execution_count": 8,
   "id": "1971d607",
   "metadata": {},
   "outputs": [
    {
     "name": "stdout",
     "output_type": "stream",
     "text": [
      "17 is a prime number.\n"
     ]
    }
   ],
   "source": [
    "# To find whether a number is prime or not:\n",
    "\n",
    "def is_prime(n):\n",
    "    if n <= 1:\n",
    "        return False\n",
    "    for i in range(2, int(n ** 0.5) + 1):\n",
    "        if n % i == 0:\n",
    "            return False\n",
    "    return True\n",
    "\n",
    "# Example usage:\n",
    "num = 17\n",
    "if is_prime(num):\n",
    "    print(num, \"is a prime number.\")\n",
    "else:\n",
    "    print(num, \"is not a prime number.\")"
   ]
  },
  {
   "cell_type": "code",
   "execution_count": 9,
   "id": "451d81d3",
   "metadata": {},
   "outputs": [
    {
     "name": "stdout",
     "output_type": "stream",
     "text": [
      "32 Fahrenheit is equal to 0.0 Celsius.\n"
     ]
    }
   ],
   "source": [
    "# To convert temperature from Fahrenheit to Celsius:\n",
    "\n",
    "def fahrenheit_to_celsius(fahrenheit):\n",
    "    return (fahrenheit - 32) * 5/9\n",
    "\n",
    "# Example usage:\n",
    "fahrenheit = 32\n",
    "celsius = fahrenheit_to_celsius(fahrenheit)\n",
    "print(fahrenheit, \"Fahrenheit is equal to\", celsius, \"Celsius.\")"
   ]
  },
  {
   "cell_type": "code",
   "execution_count": 10,
   "id": "c202ae5e",
   "metadata": {},
   "outputs": [
    {
     "name": "stdout",
     "output_type": "stream",
     "text": [
      "Sum of first 100 natural numbers: 5050\n"
     ]
    }
   ],
   "source": [
    "# To find sum of first 100 natural numbers:\n",
    "\n",
    "def sum_of_first_100_natural_numbers():\n",
    "    return sum(range(1, 101))\n",
    "\n",
    "# Example usage:\n",
    "result = sum_of_first_100_natural_numbers()\n",
    "print(\"Sum of first 100 natural numbers:\", result)"
   ]
  },
  {
   "cell_type": "code",
   "execution_count": 11,
   "id": "f568d237",
   "metadata": {},
   "outputs": [
    {
     "name": "stdout",
     "output_type": "stream",
     "text": [
      "Sum of the numbers: 55\n"
     ]
    }
   ],
   "source": [
    "# Sum of 10 integers\n",
    "\n",
    "def sum_of_numbers(numbers):\n",
    "    total = 0\n",
    "    for num in numbers:\n",
    "        total += num\n",
    "    return total\n",
    "\n",
    "# Example usage:\n",
    "numbers = [1, 2, 3, 4, 5, 6, 7, 8, 9, 10]\n",
    "result = sum_of_numbers(numbers)\n",
    "print(\"Sum of the numbers:\", result)"
   ]
  },
  {
   "cell_type": "code",
   "execution_count": null,
   "id": "ead29b84",
   "metadata": {},
   "outputs": [],
   "source": []
  }
 ],
 "metadata": {
  "kernelspec": {
   "display_name": "Python 3 (ipykernel)",
   "language": "python",
   "name": "python3"
  },
  "language_info": {
   "codemirror_mode": {
    "name": "ipython",
    "version": 3
   },
   "file_extension": ".py",
   "mimetype": "text/x-python",
   "name": "python",
   "nbconvert_exporter": "python",
   "pygments_lexer": "ipython3",
   "version": "3.11.5"
  }
 },
 "nbformat": 4,
 "nbformat_minor": 5
}
