{
 "cells": [
  {
   "cell_type": "markdown",
   "id": "b3cf043e",
   "metadata": {},
   "source": [
    "## Searching Algorithms\n",
    "#### Linear Search\n",
    "\n",
    "1. Start from the leftmost element of arr[] and one by one compare x with each element of arr[]\n",
    "2. If x matches with an element, return the index.\n",
    "3. If x doesn’t match with any of the elements, return -1."
   ]
  },
  {
   "cell_type": "code",
   "execution_count": 2,
   "id": "1084e88d",
   "metadata": {},
   "outputs": [
    {
     "name": "stdout",
     "output_type": "stream",
     "text": [
      "Element is present at index 4\n"
     ]
    }
   ],
   "source": [
    "# Python3 code to linearly search x in arr[].\n",
    "# If x is present then return its location,\n",
    "# otherwise return -1\n",
    "\n",
    "# arr = list\n",
    "# x = target var\n",
    "def search(arr, x):\n",
    "    n = len(arr)\n",
    "    for i in range(0,n):\n",
    "        if(arr[i] == x):\n",
    "            return i\n",
    "    return -1\n",
    "\n",
    "\n",
    "# Driver Code\n",
    "arr = [1,3,4,5,2,6]\n",
    "x = 2\n",
    "\n",
    "# function call\n",
    "result = search(arr,x)\n",
    "if(result == -1):\n",
    "    print('Element is not present in List.')\n",
    "else:\n",
    "    print('Element is present at index', result)"
   ]
  },
  {
   "cell_type": "markdown",
   "id": "900d934f",
   "metadata": {},
   "source": [
    "#### Binary Search\n",
    "\n",
    "Search a sorted array by repeatedly dividing the search interval in half. Begin with an interval covering the whole array. If the value of the search key is less than the item in the middle of the interval, narrow the interval to the lower half. Otherwise, narrow it to the upper half. Repeatedly check until the value is found or the interval is empty."
   ]
  },
  {
   "cell_type": "code",
   "execution_count": 3,
   "id": "5d291093",
   "metadata": {},
   "outputs": [
    {
     "name": "stdout",
     "output_type": "stream",
     "text": [
      "Target 12 found at index 5.\n"
     ]
    }
   ],
   "source": [
    "def binary_search(arr, target):\n",
    "    \"\"\"\n",
    "    Perform binary search on a sorted array to find the index of the target element.\n",
    "    \n",
    "    Args:\n",
    "    - arr: A sorted list of elements.\n",
    "    - target: The element to search for.\n",
    "    \n",
    "    Returns:\n",
    "    - index: The index of the target element in the array, or -1 if not found.\n",
    "    \"\"\"\n",
    "    # Define the left and right pointers for the search range\n",
    "    left = 0\n",
    "    right = len(arr) - 1\n",
    "    \n",
    "    # Keep searching while the left pointer is less than or equal to the right pointer\n",
    "    while left <= right:\n",
    "        # Calculate the middle index of the current search range\n",
    "        mid = (left + right) // 2\n",
    "        \n",
    "        # Check if the middle element is equal to the target\n",
    "        if arr[mid] == target:\n",
    "            return mid  # Return the index if the target is found\n",
    "        \n",
    "        # If the target is less than the middle element, search the left half\n",
    "        elif target < arr[mid]:\n",
    "            right = mid - 1\n",
    "            \n",
    "        # If the target is greater than the middle element, search the right half\n",
    "        else:\n",
    "            left = mid + 1\n",
    "            \n",
    "    # If the target is not found in the array, return -1\n",
    "    return -1\n",
    "\n",
    "# Example usage:\n",
    "arr = [2, 4, 6, 8, 10, 12, 14, 16, 18, 20]\n",
    "target = 12\n",
    "index = binary_search(arr, target)\n",
    "if index != -1:\n",
    "    print(f\"Target {target} found at index {index}.\")\n",
    "else:\n",
    "    print(f\"Target {target} not found in the array.\")\n"
   ]
  },
  {
   "cell_type": "markdown",
   "id": "a7b18ff7",
   "metadata": {},
   "source": [
    "## Sorting Algorithms\n",
    "\n",
    "#### Selection Sort\n",
    "\n",
    "The selection sort algorithm sorts an array by repeatedly finding the minimum element (considering ascending order) from unsorted part and putting it at the beginning."
   ]
  },
  {
   "cell_type": "code",
   "execution_count": 7,
   "id": "7a84a83f",
   "metadata": {},
   "outputs": [
    {
     "name": "stdout",
     "output_type": "stream",
     "text": [
      "Sorted array is: [11, 12, 22, 25, 64]\n"
     ]
    }
   ],
   "source": [
    "def bubble_sort(arr):\n",
    "    \"\"\"\n",
    "    Sorts a list using the bubble sort algorithm.\n",
    "    \n",
    "    Args:\n",
    "    - arr: The list to be sorted.\n",
    "    \n",
    "    Returns:\n",
    "    - arr: The sorted list.\n",
    "    \"\"\"\n",
    "    n = len(arr)\n",
    "    \n",
    "    # Traverse through all array elements\n",
    "    for i in range(n):\n",
    "        # Last i elements are already in place, so we don't need to check them\n",
    "        for j in range(0, n - i - 1):\n",
    "            # Traverse the array from 0 to n-i-1\n",
    "            # Swap if the element found is greater than the next element\n",
    "            if arr[j] > arr[j + 1]:\n",
    "                arr[j], arr[j + 1] = arr[j + 1], arr[j]\n",
    "    \n",
    "    return arr\n",
    "\n",
    "# Example usage:\n",
    "arr = [64, 25, 12, 22, 11]\n",
    "sorted_arr = bubble_sort(arr)\n",
    "print(\"Sorted array is:\", sorted_arr)"
   ]
  },
  {
   "cell_type": "code",
   "execution_count": null,
   "id": "70dfcf8e",
   "metadata": {},
   "outputs": [],
   "source": []
  }
 ],
 "metadata": {
  "kernelspec": {
   "display_name": "Python 3 (ipykernel)",
   "language": "python",
   "name": "python3"
  },
  "language_info": {
   "codemirror_mode": {
    "name": "ipython",
    "version": 3
   },
   "file_extension": ".py",
   "mimetype": "text/x-python",
   "name": "python",
   "nbconvert_exporter": "python",
   "pygments_lexer": "ipython3",
   "version": "3.11.5"
  }
 },
 "nbformat": 4,
 "nbformat_minor": 5
}
