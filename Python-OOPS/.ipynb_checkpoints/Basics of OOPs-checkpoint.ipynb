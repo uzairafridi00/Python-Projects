{
 "cells": [
  {
   "cell_type": "markdown",
   "id": "644513cd",
   "metadata": {},
   "source": [
    "## What Is Object-Oriented Programming (OOPs) in python?\n",
    "In Python, OOPs stands for Object-Oriented Programming. It is a programming paradigm that focuses on the use of objects and classes to create programs. An object is a group of interrelated variables and functions. These variables are often referred to as properties of the object, and functions are referred to as the behavior of the objects. These objects provide a better and clear structure for the program. Main principles of OOPs in Python are abstraction, encapsulation, inheritance, and polymorphism.\n",
    "\n",
    "Abstraction refers to the ability to hide the implementation details of an object from the user, while still providing a simple and easy-to-use interface. Encapsulation refers to the practice of combining data and methods within a class to protect the data from external interference. Inheritance is a way to create new classes based on existing ones, allowing the new classes to inherit the attributes and methods of the parent class. Finally, polymorphism allows objects of different classes to be treated as if they were of the same class, making it possible to write generic code that can work with a variety of objects."
   ]
  },
  {
   "cell_type": "markdown",
   "id": "49d3ef35",
   "metadata": {},
   "source": [
    "## Example of OOPs\n",
    "\n",
    "For example, a car can be an object. If we consider the car as an object, its properties would be its color, model, price, brand, etc. And its behavior/function would be acceleration, slowing down, and gear change.\n",
    "\n",
    "Another example – If we consider a dog as an object then its properties would be its color, breed, name, weight, etc., and its behavior/function would be walking, barking, playing, etc."
   ]
  },
  {
   "cell_type": "markdown",
   "id": "29a1cd4c",
   "metadata": {},
   "source": [
    "## Object Oriented Programming/ OOPs Concepts in Python\n",
    "In this section, we will dive deep into the basic concepts of object oriented programming. Here is list of OOP’s concepts given below:\n",
    "\n",
    "1. Class\n",
    "2. Object\n",
    "3. Method\n",
    "4. Inheritance\n",
    "5. Class Constructor\n",
    "6. Polymorphism\n",
    "7. Data Abstraction\n",
    "8. Encapsulation"
   ]
  },
  {
   "cell_type": "code",
   "execution_count": 1,
   "id": "f6377c0d",
   "metadata": {},
   "outputs": [],
   "source": [
    "# A class is a collection of objects.\n",
    "# Unlike primitive data structures, classes are data structures that the user defines.\n",
    "\n",
    "class class_name:\n",
    "    # class body\n",
    "    pass"
   ]
  },
  {
   "cell_type": "code",
   "execution_count": 2,
   "id": "0db0f6e8",
   "metadata": {},
   "outputs": [],
   "source": [
    "class Car:\n",
    "    pass"
   ]
  },
  {
   "cell_type": "code",
   "execution_count": 4,
   "id": "0d8dbd8a",
   "metadata": {},
   "outputs": [
    {
     "name": "stdout",
     "output_type": "stream",
     "text": [
      "<__main__.Car object at 0x0000022B0B087610>\n"
     ]
    }
   ],
   "source": [
    "obj1 = Car()\n",
    "print(obj1)"
   ]
  },
  {
   "cell_type": "code",
   "execution_count": 5,
   "id": "e003e433",
   "metadata": {},
   "outputs": [],
   "source": [
    "# now defining the constructor\n",
    "# This __init__() method is also known as the constructor method\n",
    "\n",
    "class Car:\n",
    "    def __init__(self, name, color):\n",
    "        self.name = name\n",
    "        self.color = color"
   ]
  },
  {
   "cell_type": "code",
   "execution_count": 6,
   "id": "8eefd59d",
   "metadata": {},
   "outputs": [],
   "source": [
    "# suppose we have only Sedan cars so we create the constant\n",
    "\n",
    "class Car:\n",
    "    car_type = \"Sedan\"                 #class attribute\n",
    "    def __init__(self, name, color):\n",
    "        self.name = name               #instance attribute   \n",
    "        self.color = color             #instance attribute"
   ]
  },
  {
   "cell_type": "code",
   "execution_count": 9,
   "id": "e3f17fc8",
   "metadata": {},
   "outputs": [],
   "source": [
    "class Car:\n",
    "    car_type = \"Sedan\"\n",
    "    \n",
    "    def __init__(self, name, mileage):\n",
    "        self.name = name\n",
    "        self.mileage = mileage\n",
    "        \n",
    "    def description(self):\n",
    "        return f\"The {self.name} car gives the mileage of {self.mileage}km/l\"\n",
    "    \n",
    "    def max_speed(self, speed):\n",
    "        return f\"The {self.name} runs at the maximum speed of {speed}km/hr\"\n",
    "    "
   ]
  },
  {
   "cell_type": "code",
   "execution_count": 10,
   "id": "c6dfc8ec",
   "metadata": {},
   "outputs": [
    {
     "name": "stdout",
     "output_type": "stream",
     "text": [
      "The Honda City car gives the mileage of 24.1km/l\n",
      "The Honda City runs at the maximum speed of 150km/hr\n"
     ]
    }
   ],
   "source": [
    "obj2 = Car(\"Honda City\", 24.1)\n",
    "print(obj2.description())\n",
    "print(obj2.max_speed(150))"
   ]
  },
  {
   "cell_type": "code",
   "execution_count": 11,
   "id": "3c1d8bb0",
   "metadata": {},
   "outputs": [
    {
     "name": "stdout",
     "output_type": "stream",
     "text": [
      "The Skoda Octavia runs at the maximum speed of 210km/hr\n"
     ]
    }
   ],
   "source": [
    "Skoda = Car(\"Skoda Octavia\",13)\n",
    "print(Skoda.max_speed(210))"
   ]
  },
  {
   "cell_type": "markdown",
   "id": "0a315193",
   "metadata": {},
   "source": [
    "## Inheritance\n",
    "\n",
    "Inheritance is the procedure in which one class inherits the attributes and methods of another class.  The class whose properties and methods are inherited is known as the Parent class. And the class that inherits the properties from the parent class is the Child class."
   ]
  },
  {
   "cell_type": "code",
   "execution_count": 12,
   "id": "23dbb55c",
   "metadata": {},
   "outputs": [],
   "source": [
    "class Parent_Class:\n",
    "    pass\n",
    "\n",
    "class Child_Class(Parent_Class):\n",
    "    pass"
   ]
  },
  {
   "cell_type": "code",
   "execution_count": 13,
   "id": "6767c585",
   "metadata": {},
   "outputs": [],
   "source": [
    "class Car:          # Parent class\n",
    "\n",
    "    def __init__(self, name, mileage):\n",
    "        self.name = name \n",
    "        self.mileage = mileage \n",
    "\n",
    "    def description(self):                \n",
    "        return f\"The {self.name} car gives the mileage of {self.mileage}km/l\"\n",
    "\n",
    "\n",
    "class BMW(Car):     # Child Class\n",
    "    pass\n",
    "\n",
    "class Audi(Car):    # Child Class\n",
    "    def audi_description(self):\n",
    "        return \"This is the description method of class Audi\"\n",
    "    "
   ]
  },
  {
   "cell_type": "code",
   "execution_count": 14,
   "id": "3a7effa5",
   "metadata": {},
   "outputs": [
    {
     "name": "stdout",
     "output_type": "stream",
     "text": [
      "The BMW 7-series car gives the mileage of 39.53km/l\n"
     ]
    }
   ],
   "source": [
    "bmw = BMW(\"BMW 7-series\",39.53)\n",
    "print(bmw.description())"
   ]
  },
  {
   "cell_type": "code",
   "execution_count": 15,
   "id": "dd33ce18",
   "metadata": {},
   "outputs": [
    {
     "name": "stdout",
     "output_type": "stream",
     "text": [
      "The Audi A8 L car gives the mileage of 14km/l\n",
      "This is the description method of class Audi\n"
     ]
    }
   ],
   "source": [
    "audi = Audi(\"Audi A8 L\",14)\n",
    "print(audi.description())\n",
    "print(audi.audi_description())"
   ]
  },
  {
   "cell_type": "markdown",
   "id": "9a32cf53",
   "metadata": {},
   "source": [
    "# Encapsulation\n",
    "\n",
    "Basically, it hides the data from the access of outsiders. Such as, if an organization wants to protect an object/information from unwanted access by clients or any unauthorized person, then encapsulation is the way to ensure this.\n",
    "\n",
    "You can declare the methods or the attributes protected by using a single underscore ( ) before their names, such as _self.name or def _method( )\n",
    "Both of these lines tell that the attribute and method are protected and should not be used outside the access of the class and sub-classes but can be accessed by class methods and objects.\n",
    "\n",
    "In order to declare the attributes/method as private members, use double underscore ( ) in the prefix. Such as – self.name or def __method()"
   ]
  },
  {
   "cell_type": "code",
   "execution_count": 18,
   "id": "bf984a84",
   "metadata": {},
   "outputs": [
    {
     "name": "stdout",
     "output_type": "stream",
     "text": [
      "The BMW 7 Series car gives the mileage of 39.59km/l\n",
      "BMW 7 Series\n",
      "39.59\n"
     ]
    }
   ],
   "source": [
    "class Car:\n",
    "    def __init__(self, name, mileage):\n",
    "        self._name = name             # protected Variable\n",
    "        self.mileage = mileage\n",
    "        \n",
    "    def description(self):\n",
    "        return f\"The {self._name} car gives the mileage of {self.mileage}km/l\"\n",
    "    \n",
    "\n",
    "obj = Car('BMW 7 Series', 39.59)\n",
    "print(obj.description())\n",
    "\n",
    "#accessing protected variable directly from outside\n",
    "print(obj._name)\n",
    "print(obj.mileage)"
   ]
  },
  {
   "cell_type": "code",
   "execution_count": 20,
   "id": "862ef825",
   "metadata": {},
   "outputs": [
    {
     "name": "stdout",
     "output_type": "stream",
     "text": [
      "The BMW 7 Series car gives the mileage of 39.59km/l\n",
      "39.59\n"
     ]
    }
   ],
   "source": [
    "# Notice how we accessed the protected variable without any error.\n",
    "# It is clear that access to the variable is still public. Let us see how encapsulation works\n",
    "\n",
    "class Car:\n",
    "    def __init__(self, name, mileage):\n",
    "        self.__name = name             # private Variable\n",
    "        self.mileage = mileage\n",
    "        \n",
    "    def description(self):\n",
    "        return f\"The {self.__name} car gives the mileage of {self.mileage}km/l\"\n",
    "    \n",
    "\n",
    "obj = Car('BMW 7 Series', 39.59)\n",
    "print(obj.description())\n",
    "\n",
    "#accessing protected variable directly from outside\n",
    "#print(obj.__name)      # Now it will throw error\n",
    "print(obj.mileage)"
   ]
  },
  {
   "cell_type": "markdown",
   "id": "5f77aa16",
   "metadata": {},
   "source": [
    "You can still access this attribute directly using its mangled name. Name mangling is a mechanism we use for accessing the class members from outside. The Python interpreter rewrites any identifier with “__var” as “_ClassName__var”. And using this you can access the class member from outside as well.\n",
    "\n",
    "Note that the mangling rule’s design mostly avoids accidents. But it is still possible to access or modify a variable that is considered private. This can even be useful in special circumstances, such as in the debugger."
   ]
  },
  {
   "cell_type": "code",
   "execution_count": 21,
   "id": "750902a3",
   "metadata": {},
   "outputs": [
    {
     "name": "stdout",
     "output_type": "stream",
     "text": [
      "The BMW 7 Series car gives the mileage of 39.59km/l\n",
      "BMW 7 Series\n",
      "39.59\n"
     ]
    }
   ],
   "source": [
    "# Notice how we accessed the protected variable without any error.\n",
    "# It is clear that access to the variable is still public. Let us see how encapsulation works\n",
    "\n",
    "class Car:\n",
    "    def __init__(self, name, mileage):\n",
    "        self.__name = name             # private Variable\n",
    "        self.mileage = mileage\n",
    "        \n",
    "    def description(self):\n",
    "        return f\"The {self.__name} car gives the mileage of {self.mileage}km/l\"\n",
    "    \n",
    "\n",
    "obj = Car('BMW 7 Series', 39.59)\n",
    "print(obj.description())\n",
    "\n",
    "#accessing protected variable directly from outside\n",
    "print(obj._Car__name)     \n",
    "print(obj.mileage)"
   ]
  },
  {
   "cell_type": "markdown",
   "id": "38134d80",
   "metadata": {},
   "source": [
    "# Polymorphism\n",
    "\n",
    "This is a Greek word. If we break the term Polymorphism, we get “poly”-many and “morph”-forms. So Polymorphism means having many forms. In OOP it refers to the functions having the same names but carrying different functionalities."
   ]
  },
  {
   "cell_type": "code",
   "execution_count": 22,
   "id": "6dcc08d4",
   "metadata": {},
   "outputs": [
    {
     "name": "stdout",
     "output_type": "stream",
     "text": [
      "This the description function of class AUDI.\n",
      "This the description function of class BMW.\n"
     ]
    }
   ],
   "source": [
    "class Audi:\n",
    "    def description(self):\n",
    "        print(\"This the description function of class AUDI.\")\n",
    "\n",
    "class BMW:\n",
    "    def description(self):\n",
    "        print(\"This the description function of class BMW.\")\n",
    "        \n",
    "audi = Audi()\n",
    "bmw = BMW()\n",
    "for car in (audi,bmw):\n",
    "    car.description()"
   ]
  },
  {
   "cell_type": "markdown",
   "id": "7b666a12",
   "metadata": {},
   "source": [
    "# Data Abstraction\n",
    "\n",
    "We use Abstraction for hiding the internal details or implementations of a function and showing its functionalities only. \n",
    "\n",
    "This is similar to the way you know how to drive a car without knowing the background mechanism. Or you know how to turn on or off a light using a switch, but you don’t know what is happening behind the socket.\n",
    "\n",
    "Any class with at least one abstract function is an abstract class. To create an abstraction class, first, you need to import the ABC class from abc module. This lets you create abstract methods inside it. ABC stands for Abstract Base Class."
   ]
  },
  {
   "cell_type": "code",
   "execution_count": 24,
   "id": "3263d713",
   "metadata": {},
   "outputs": [],
   "source": [
    "from abc import ABC\n",
    "\n",
    "class abs_class(ABC):\n",
    "    # Body of the class\n",
    "    pass"
   ]
  },
  {
   "cell_type": "code",
   "execution_count": 26,
   "id": "f727f164",
   "metadata": {},
   "outputs": [
    {
     "ename": "TypeError",
     "evalue": "Can't instantiate abstract class Car with abstract method price",
     "output_type": "error",
     "traceback": [
      "\u001b[1;31m---------------------------------------------------------------------------\u001b[0m",
      "\u001b[1;31mTypeError\u001b[0m                                 Traceback (most recent call last)",
      "Cell \u001b[1;32mIn[26], line 14\u001b[0m\n\u001b[0;32m     10\u001b[0m     \u001b[38;5;129m@abstractmethod\u001b[39m\n\u001b[0;32m     11\u001b[0m     \u001b[38;5;28;01mdef\u001b[39;00m \u001b[38;5;21mprice\u001b[39m(\u001b[38;5;28mself\u001b[39m,x):\n\u001b[0;32m     12\u001b[0m         \u001b[38;5;28;01mpass\u001b[39;00m\n\u001b[1;32m---> 14\u001b[0m obj \u001b[38;5;241m=\u001b[39m Car(\u001b[38;5;124m\"\u001b[39m\u001b[38;5;124mHonda Civic\u001b[39m\u001b[38;5;124m\"\u001b[39m)\n",
      "\u001b[1;31mTypeError\u001b[0m: Can't instantiate abstract class Car with abstract method price"
     ]
    }
   ],
   "source": [
    "# The important thing is – you cannot create an object for the abstract class with the abstract method. \n",
    "# For example-\n",
    "\n",
    "from abc import ABC, abstractmethod\n",
    "\n",
    "class Car(ABC):\n",
    "    def __init__(self, name):\n",
    "        self.name = name\n",
    "        \n",
    "    @abstractmethod\n",
    "    def price(self,x):\n",
    "        pass\n",
    "\n",
    "obj = Car(\"Honda Civic\")"
   ]
  },
  {
   "cell_type": "markdown",
   "id": "00220241",
   "metadata": {},
   "source": [
    "#### Now the question is, how do we use this abstraction exactly? The answer is, by using inheritance."
   ]
  },
  {
   "cell_type": "code",
   "execution_count": 27,
   "id": "332d81b7",
   "metadata": {},
   "outputs": [
    {
     "name": "stdout",
     "output_type": "stream",
     "text": [
      "This is the description function of class Car\n",
      "The Honda Civic's price is 25 lakhs.\n"
     ]
    }
   ],
   "source": [
    "from abc import ABC, abstractmethod\n",
    "\n",
    "class Car(ABC):\n",
    "    def __init__(self, name):\n",
    "        self.name = name\n",
    "        \n",
    "    def description(self):\n",
    "        print(\"This is the description function of class Car\")\n",
    "    \n",
    "    @abstractmethod\n",
    "    def price(self,x):\n",
    "        pass\n",
    "    \n",
    "class new(Car):\n",
    "    def price(self,x):\n",
    "        print(f\"The {self.name}'s price is {x} lakhs.\")\n",
    "        \n",
    "obj = new('Honda Civic')\n",
    "obj.description()\n",
    "obj.price(25)"
   ]
  },
  {
   "cell_type": "markdown",
   "id": "a4d3a84c",
   "metadata": {},
   "source": [
    "#### What is the difference between classes and objects?\n",
    "A class is a blueprint, whereas an object is an instance of a class. A class doesn’t occupy any memory, whereas an object occupies space."
   ]
  },
  {
   "cell_type": "code",
   "execution_count": null,
   "id": "e9690b4c",
   "metadata": {},
   "outputs": [],
   "source": []
  }
 ],
 "metadata": {
  "kernelspec": {
   "display_name": "Python 3 (ipykernel)",
   "language": "python",
   "name": "python3"
  },
  "language_info": {
   "codemirror_mode": {
    "name": "ipython",
    "version": 3
   },
   "file_extension": ".py",
   "mimetype": "text/x-python",
   "name": "python",
   "nbconvert_exporter": "python",
   "pygments_lexer": "ipython3",
   "version": "3.11.5"
  }
 },
 "nbformat": 4,
 "nbformat_minor": 5
}
