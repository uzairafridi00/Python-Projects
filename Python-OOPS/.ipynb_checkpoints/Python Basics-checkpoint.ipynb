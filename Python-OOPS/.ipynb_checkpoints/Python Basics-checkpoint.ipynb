{
 "cells": [
  {
   "cell_type": "code",
   "execution_count": 2,
   "id": "0d5fe5fe",
   "metadata": {},
   "outputs": [
    {
     "name": "stdout",
     "output_type": "stream",
     "text": [
      "String\n"
     ]
    }
   ],
   "source": [
    "a = 'String'\n",
    "print(a)"
   ]
  },
  {
   "cell_type": "code",
   "execution_count": 3,
   "id": "983c9c89",
   "metadata": {},
   "outputs": [
    {
     "name": "stdout",
     "output_type": "stream",
     "text": [
      "123\n"
     ]
    }
   ],
   "source": [
    "b = 123\n",
    "print(b)"
   ]
  },
  {
   "cell_type": "code",
   "execution_count": 4,
   "id": "0d2cd3c6",
   "metadata": {},
   "outputs": [
    {
     "name": "stdout",
     "output_type": "stream",
     "text": [
      "6\n"
     ]
    }
   ],
   "source": [
    "a = 2\n",
    "b = 4\n",
    "c = a + b\n",
    "print(c)"
   ]
  },
  {
   "cell_type": "code",
   "execution_count": 5,
   "id": "6c939b9c",
   "metadata": {},
   "outputs": [
    {
     "name": "stdout",
     "output_type": "stream",
     "text": [
      "8\n"
     ]
    }
   ],
   "source": [
    "d = a*b\n",
    "print(d)"
   ]
  },
  {
   "cell_type": "code",
   "execution_count": 6,
   "id": "4f08b23d",
   "metadata": {},
   "outputs": [
    {
     "name": "stdout",
     "output_type": "stream",
     "text": [
      "I am Not in if\n"
     ]
    }
   ],
   "source": [
    "# python program to illustrate If statement \n",
    "  \n",
    "i = 10\n",
    "  \n",
    "if (i > 15): \n",
    "    print(\"10 is less than 15\") \n",
    "print(\"I am Not in if\") "
   ]
  },
  {
   "cell_type": "code",
   "execution_count": 7,
   "id": "c3d5bd94",
   "metadata": {},
   "outputs": [
    {
     "name": "stdout",
     "output_type": "stream",
     "text": [
      "i is greater than 15\n",
      "i'm in else Block\n",
      "i'm not in if and not in else Block\n"
     ]
    }
   ],
   "source": [
    "# python program to illustrate If else statement \n",
    "  \n",
    "i = 20\n",
    "if (i < 15): \n",
    "    print(\"i is smaller than 15\") \n",
    "    print(\"i'm in if Block\") \n",
    "else: \n",
    "    print(\"i is greater than 15\") \n",
    "    print(\"i'm in else Block\") \n",
    "print(\"i'm not in if and not in else Block\") "
   ]
  },
  {
   "cell_type": "code",
   "execution_count": 8,
   "id": "f64ee8ed",
   "metadata": {},
   "outputs": [
    {
     "name": "stdout",
     "output_type": "stream",
     "text": [
      "i is smaller than 15\n",
      "i is smaller than 12 too\n"
     ]
    }
   ],
   "source": [
    "i = 10\n",
    "if (i == 10): \n",
    "    \n",
    "    #  First if statement \n",
    "    if (i < 15): \n",
    "        print(\"i is smaller than 15\") \n",
    "          \n",
    "    # Nested - if statement \n",
    "    # Will only be executed if statement above \n",
    "    # it is true \n",
    "    if (i < 12): \n",
    "        print(\"i is smaller than 12 too\") \n",
    "    else: \n",
    "        print(\"i is greater than 15\") "
   ]
  },
  {
   "cell_type": "code",
   "execution_count": 9,
   "id": "a6d02deb",
   "metadata": {},
   "outputs": [
    {
     "name": "stdout",
     "output_type": "stream",
     "text": [
      "i is 20\n"
     ]
    }
   ],
   "source": [
    "i = 20\n",
    "if (i == 10): \n",
    "    print(\"i is 10\") \n",
    "elif (i == 15): \n",
    "    print(\"i is 15\") \n",
    "elif (i == 20): \n",
    "    print(\"i is 20\") \n",
    "else: \n",
    "    print(\"i is not present\") "
   ]
  },
  {
   "cell_type": "code",
   "execution_count": 10,
   "id": "07554817",
   "metadata": {},
   "outputs": [
    {
     "name": "stdout",
     "output_type": "stream",
     "text": [
      "i is less than 5\n"
     ]
    }
   ],
   "source": [
    "# python short hand if\n",
    "\n",
    "i = 10\n",
    "if i<15 : print('i is less than 5')"
   ]
  },
  {
   "cell_type": "code",
   "execution_count": 11,
   "id": "3efbcbc0",
   "metadata": {},
   "outputs": [
    {
     "name": "stdout",
     "output_type": "stream",
     "text": [
      "True\n"
     ]
    }
   ],
   "source": [
    "# python short hand if else\n",
    "\n",
    "i = 10\n",
    "print(True) if i<15 else print(False)"
   ]
  },
  {
   "cell_type": "code",
   "execution_count": 12,
   "id": "0d82106c",
   "metadata": {},
   "outputs": [
    {
     "name": "stdout",
     "output_type": "stream",
     "text": [
      "Odd\n"
     ]
    }
   ],
   "source": [
    "# Odd-even practice exercise using if-else statements\n",
    "\n",
    "number = 9\n",
    "if number % 2 == 0:\n",
    "    print('Even')\n",
    "else:\n",
    "    print('Odd')"
   ]
  },
  {
   "cell_type": "code",
   "execution_count": 14,
   "id": "9be17bdc",
   "metadata": {},
   "outputs": [
    {
     "name": "stdout",
     "output_type": "stream",
     "text": [
      "Enter your Age: 20\n",
      "Eligible\n"
     ]
    }
   ],
   "source": [
    "# Eligible to vote exercise questions using if-else statements\n",
    "\n",
    "age = int(input(\"Enter your Age: \"))\n",
    "if age > 18:\n",
    "    print('Eligible')\n",
    "else:\n",
    "    print('Not Eligible')"
   ]
  },
  {
   "cell_type": "code",
   "execution_count": 15,
   "id": "08172314",
   "metadata": {},
   "outputs": [
    {
     "name": "stdout",
     "output_type": "stream",
     "text": [
      "b is divisible by a\n"
     ]
    }
   ],
   "source": [
    "a = 3\n",
    "b = 9\n",
    "if b % a == 0 :\n",
    "    print (\"b is divisible by a\")\n",
    "elif b + 1 == 10:\n",
    "    print (\"Increment in b produces 10\")\n",
    "else:\n",
    "    print (\"You are in else statement\")"
   ]
  },
  {
   "cell_type": "code",
   "execution_count": 18,
   "id": "b85ffddb",
   "metadata": {},
   "outputs": [
    {
     "name": "stdout",
     "output_type": "stream",
     "text": [
      "Even\n",
      "Odd\n"
     ]
    }
   ],
   "source": [
    "def checkOddEven(a):\n",
    "    if a % 2 == 0:\n",
    "        print('Even')\n",
    "    else:\n",
    "        print('Odd')\n",
    "        \n",
    "checkOddEven(4)\n",
    "checkOddEven(7)"
   ]
  },
  {
   "cell_type": "code",
   "execution_count": 19,
   "id": "993b23d8",
   "metadata": {},
   "outputs": [
    {
     "name": "stdout",
     "output_type": "stream",
     "text": [
      "1\n",
      "2\n",
      "3\n",
      "No Break\n"
     ]
    }
   ],
   "source": [
    "# else block in loop\n",
    "\n",
    "for i in range(1, 4): \n",
    "    print(i) \n",
    "else:  # Executed because no break in for \n",
    "    print(\"No Break\") "
   ]
  },
  {
   "cell_type": "code",
   "execution_count": 20,
   "id": "a13c77bb",
   "metadata": {},
   "outputs": [
    {
     "name": "stdout",
     "output_type": "stream",
     "text": [
      "1\n"
     ]
    }
   ],
   "source": [
    "# else block not executed\n",
    "\n",
    "for i in range(1, 4): \n",
    "    print(i) \n",
    "    break\n",
    "else: # Not executed as there is a break \n",
    "    print(\"No Break\") "
   ]
  },
  {
   "cell_type": "code",
   "execution_count": 21,
   "id": "f8ff786f",
   "metadata": {},
   "outputs": [
    {
     "name": "stdout",
     "output_type": "stream",
     "text": [
      "For List 1:\n",
      "List Contains an EVEN Number\n",
      " \n",
      "For List 2:\n",
      "No Even Number Found in List\n"
     ]
    }
   ],
   "source": [
    "# check if an array consists  \n",
    "# of even number \n",
    "\n",
    "def contains_even_number(l):\n",
    "    for num in l:\n",
    "        if num % 2 == 0:\n",
    "            print('List Contains an EVEN Number')\n",
    "            break\n",
    "    # This else executes only if break is NEVER \n",
    "    # reached and loop terminated after all iterations.\n",
    "    else:\n",
    "        print('No Even Number Found in List')\n",
    "        \n",
    "    \n",
    "# Driver code \n",
    "print (\"For List 1:\") \n",
    "contains_even_number([1, 9, 8]) \n",
    "print (\" \\nFor List 2:\") \n",
    "contains_even_number([1, 3, 5]) "
   ]
  },
  {
   "cell_type": "code",
   "execution_count": 22,
   "id": "53518a2d",
   "metadata": {},
   "outputs": [
    {
     "name": "stdout",
     "output_type": "stream",
     "text": [
      "1\n"
     ]
    }
   ],
   "source": [
    "count = 0\n",
    "while(count < 1):\n",
    "    count = count+1\n",
    "    print(count)\n",
    "    break\n",
    "else:\n",
    "    print('No Break')"
   ]
  },
  {
   "cell_type": "code",
   "execution_count": 23,
   "id": "80d2a8c9",
   "metadata": {},
   "outputs": [],
   "source": [
    "# range vs xrange \n",
    "# range = python 3x \n",
    "# xrange = python 2x"
   ]
  },
  {
   "cell_type": "code",
   "execution_count": 24,
   "id": "9ff36ff7",
   "metadata": {},
   "outputs": [
    {
     "name": "stdout",
     "output_type": "stream",
     "text": [
      "The list of keywords is : \n",
      "['False', 'None', 'True', 'and', 'as', 'assert', 'async', 'await', 'break', 'class', 'continue', 'def', 'del', 'elif', 'else', 'except', 'finally', 'for', 'from', 'global', 'if', 'import', 'in', 'is', 'lambda', 'nonlocal', 'not', 'or', 'pass', 'raise', 'return', 'try', 'while', 'with', 'yield']\n"
     ]
    }
   ],
   "source": [
    "# importing \"keyword\" for keyword operations\n",
    "import keyword\n",
    " \n",
    "# printing all keywords at once using \"kwlist()\"\n",
    "print (\"The list of keywords is : \")\n",
    "print (keyword.kwlist)"
   ]
  },
  {
   "cell_type": "markdown",
   "id": "337670d5",
   "metadata": {},
   "source": [
    "### Keyword\n",
    "\n",
    "##### and \t\n",
    "It is a Logical Operator\n",
    "\n",
    "##### False\t\n",
    "Represents an expression that will result in not being true.\n",
    "\n",
    "##### nonlocal\t\n",
    "It is a non-local variable\n",
    "\n",
    "##### as\t\n",
    "It is used to create an alias name\n",
    "\n",
    "##### finally\t\n",
    "It is used with exceptions\n",
    "\n",
    "##### not\t\n",
    "It is a Logical Operator\n",
    "\n",
    "##### assert\t\n",
    "It is used for debugging\n",
    "\n",
    "##### for\t\n",
    "It is used to create Loop\n",
    "\n",
    "##### or\t\n",
    "It is a Logical Operator\n",
    "\n",
    "##### break\t\n",
    "Break out a Loop\n",
    "\n",
    "##### from\t\n",
    "To import specific parts of a module\n",
    "\n",
    "##### pass\t\n",
    "pass is used when the user doesn’t \n",
    "\n",
    "want any code to execute\n",
    "\n",
    "##### class\t\n",
    "It is used to define a class\n",
    "\n",
    "##### global\t\n",
    "It is used to declare a global variable\n",
    "\n",
    "##### raise\t\n",
    "raise is used to raise exceptions or errors.\n",
    "\n",
    "##### continue\t\n",
    "Skip the next iteration of a loop\n",
    "\n",
    "##### if\t\n",
    "To create a Conditional Statement\n",
    "\n",
    "##### return\t\n",
    "return is used to end the execution\n",
    "\n",
    "##### def\t\n",
    "It is used to define the Function\n",
    "\n",
    "##### import\t\n",
    "It is used to import a module\n",
    "\n",
    "##### True \t\n",
    "Represents an expression that will result in true.\n",
    "\n",
    "##### del\t\n",
    "It is used to delete an object\n",
    "\n",
    "##### is\t\n",
    "It is used to test if two variables are equal\n",
    "\n",
    "##### try\t\n",
    "Try is used to handle errors\n",
    "\n",
    "##### elif\t\n",
    "Conditional statements, same as else-if\n",
    "\n",
    "##### in\t\n",
    "To check if a value is present in a Tuple, List, etc.\n",
    "\n",
    "##### while\t\n",
    "While Loop is used to execute a block of statements\n",
    "\n",
    "##### else\t\n",
    "It is used in a conditional statement\n",
    "\n",
    "##### lambda\t\n",
    "Used to create an anonymous function\n",
    "\n",
    "##### with\t\n",
    " with statement is used in exception handling\n",
    "\n",
    "##### except\t\n",
    "try-except is used to handle these errors\n",
    "\n",
    "##### None\t\n",
    "It represents a null value\n",
    "\n",
    "##### yield\t\n",
    "yield keyword is used to create a generator function"
   ]
  },
  {
   "cell_type": "code",
   "execution_count": 26,
   "id": "eb105d97",
   "metadata": {},
   "outputs": [
    {
     "name": "stdout",
     "output_type": "stream",
     "text": [
      "0 1 2 3 4 5 6 \n",
      "0 1 2 3 4 5 7 8 9 "
     ]
    }
   ],
   "source": [
    "   \n",
    "for i in range(10):\n",
    " \n",
    "    print(i, end=\" \")\n",
    "    if i == 6:\n",
    "        break\n",
    " \n",
    "print()\n",
    "i = 0\n",
    "while i < 10:\n",
    "    if i == 6:\n",
    "        i += 1\n",
    "        continue\n",
    "    else:\n",
    "        print(i, end=\" \")\n",
    " \n",
    "    i += 1"
   ]
  },
  {
   "cell_type": "code",
   "execution_count": 27,
   "id": "eec1c599",
   "metadata": {},
   "outputs": [
    {
     "name": "stdout",
     "output_type": "stream",
     "text": [
      "mammal\n",
      "I'm a mammal\n",
      "I'm a dog\n"
     ]
    }
   ],
   "source": [
    "# CLASS\n",
    "  \n",
    "class Dog:\n",
    "    attr1 = \"mammal\"\n",
    "    attr2 = \"dog\"\n",
    " \n",
    "    def fun(self):\n",
    "        print(\"I'm a\", self.attr1)\n",
    "        print(\"I'm a\", self.attr2)\n",
    " \n",
    "Rodger = Dog()\n",
    "print(Rodger.attr1)\n",
    "Rodger.fun()"
   ]
  },
  {
   "cell_type": "code",
   "execution_count": 28,
   "id": "019e73c4",
   "metadata": {},
   "outputs": [],
   "source": [
    "# With keyword\n",
    "# r for read\n",
    "with open('file_Path','w') as file:\n",
    "    file.write('Hello World')"
   ]
  },
  {
   "cell_type": "code",
   "execution_count": 30,
   "id": "3bf592ed",
   "metadata": {},
   "outputs": [
    {
     "name": "stdout",
     "output_type": "stream",
     "text": [
      "120\n"
     ]
    }
   ],
   "source": [
    "import math as m\n",
    " \n",
    "print(m.factorial(5))"
   ]
  },
  {
   "cell_type": "code",
   "execution_count": 31,
   "id": "f4b24650",
   "metadata": {},
   "outputs": [],
   "source": [
    "# pass\n",
    "n = 10\n",
    "for i in range(n):\n",
    " \n",
    "    # pass can be used as placeholder\n",
    "    # when code is to added later\n",
    "    pass"
   ]
  },
  {
   "cell_type": "code",
   "execution_count": 33,
   "id": "d76615e8",
   "metadata": {},
   "outputs": [
    {
     "name": "stdout",
     "output_type": "stream",
     "text": [
      "49\n"
     ]
    }
   ],
   "source": [
    "# Lambda keyword\n",
    "g = lambda x: x*x\n",
    " \n",
    "print(g(7))"
   ]
  },
  {
   "cell_type": "code",
   "execution_count": 34,
   "id": "c7db22d2",
   "metadata": {},
   "outputs": [
    {
     "name": "stdout",
     "output_type": "stream",
     "text": [
      "45\n"
     ]
    }
   ],
   "source": [
    "# Return keyword\n",
    "def fun():\n",
    "    S = 0\n",
    " \n",
    "    for i in range(10):\n",
    "        S += i\n",
    "    return S\n",
    " \n",
    "print(fun())"
   ]
  },
  {
   "cell_type": "code",
   "execution_count": 35,
   "id": "1a1173df",
   "metadata": {},
   "outputs": [
    {
     "name": "stdout",
     "output_type": "stream",
     "text": [
      "0\n",
      "1\n",
      "3\n",
      "6\n",
      "10\n",
      "15\n",
      "21\n",
      "28\n",
      "36\n",
      "45\n"
     ]
    }
   ],
   "source": [
    "# Yield Keyword\n",
    " \n",
    "def fun():\n",
    "    S = 0\n",
    " \n",
    "    for i in range(10):\n",
    "        S += i\n",
    "        yield S\n",
    " \n",
    " \n",
    "for i in fun():\n",
    "    print(i)"
   ]
  },
  {
   "cell_type": "code",
   "execution_count": 36,
   "id": "b740f2c8",
   "metadata": {},
   "outputs": [
    {
     "name": "stdout",
     "output_type": "stream",
     "text": [
      "3628800\n",
      "3628800\n"
     ]
    }
   ],
   "source": [
    "# import keyword\n",
    "from math import factorial\n",
    "import math\n",
    "print(math.factorial(10))\n",
    " \n",
    "# from keyword\n",
    "print(factorial(10))"
   ]
  },
  {
   "cell_type": "code",
   "execution_count": 37,
   "id": "7b470880",
   "metadata": {},
   "outputs": [
    {
     "name": "stdout",
     "output_type": "stream",
     "text": [
      "Can't divide by zero\n",
      "This is always executed\n",
      "The value of a / b is : \n"
     ]
    },
    {
     "ename": "AssertionError",
     "evalue": "Divide by 0 error",
     "output_type": "error",
     "traceback": [
      "\u001b[1;31m---------------------------------------------------------------------------\u001b[0m",
      "\u001b[1;31mAssertionError\u001b[0m                            Traceback (most recent call last)",
      "Cell \u001b[1;32mIn[37], line 13\u001b[0m\n\u001b[0;32m     10\u001b[0m     \u001b[38;5;28mprint\u001b[39m(\u001b[38;5;124m'\u001b[39m\u001b[38;5;124mThis is always executed\u001b[39m\u001b[38;5;124m'\u001b[39m)\n\u001b[0;32m     12\u001b[0m \u001b[38;5;28mprint\u001b[39m(\u001b[38;5;124m\"\u001b[39m\u001b[38;5;124mThe value of a / b is : \u001b[39m\u001b[38;5;124m\"\u001b[39m)\n\u001b[1;32m---> 13\u001b[0m \u001b[38;5;28;01massert\u001b[39;00m b \u001b[38;5;241m!=\u001b[39m \u001b[38;5;241m0\u001b[39m, \u001b[38;5;124m\"\u001b[39m\u001b[38;5;124mDivide by 0 error\u001b[39m\u001b[38;5;124m\"\u001b[39m\n\u001b[0;32m     14\u001b[0m \u001b[38;5;28mprint\u001b[39m(a \u001b[38;5;241m/\u001b[39m b)\n\u001b[0;32m     16\u001b[0m temp \u001b[38;5;241m=\u001b[39m \u001b[38;5;124m\"\u001b[39m\u001b[38;5;124mgeeks for geeks\u001b[39m\u001b[38;5;124m\"\u001b[39m\n",
      "\u001b[1;31mAssertionError\u001b[0m: Divide by 0 error"
     ]
    }
   ],
   "source": [
    "   \n",
    "a = 4\n",
    "b = 0\n",
    "try:\n",
    "    k = a//b\n",
    "    print(k)\n",
    "except ZeroDivisionError:\n",
    "    print(\"Can't divide by zero\")\n",
    "    \n",
    "finally:\n",
    "    print('This is always executed')\n",
    "    \n",
    "print(\"The value of a / b is : \")\n",
    "assert b != 0, \"Divide by 0 error\"\n",
    "print(a / b)\n",
    " \n",
    "temp = \"geeks for geeks\"\n",
    "if temp != \"geeks\":\n",
    "    raise TypeError(\"Both the strings are different.\")"
   ]
  },
  {
   "cell_type": "code",
   "execution_count": 38,
   "id": "6333d5a6",
   "metadata": {},
   "outputs": [
    {
     "ename": "TypeError",
     "evalue": "Both the strings are different.",
     "output_type": "error",
     "traceback": [
      "\u001b[1;31m---------------------------------------------------------------------------\u001b[0m",
      "\u001b[1;31mTypeError\u001b[0m                                 Traceback (most recent call last)",
      "Cell \u001b[1;32mIn[38], line 4\u001b[0m\n\u001b[0;32m      2\u001b[0m temp \u001b[38;5;241m=\u001b[39m \u001b[38;5;124m\"\u001b[39m\u001b[38;5;124mgeeks for geeks\u001b[39m\u001b[38;5;124m\"\u001b[39m\n\u001b[0;32m      3\u001b[0m \u001b[38;5;28;01mif\u001b[39;00m temp \u001b[38;5;241m!=\u001b[39m \u001b[38;5;124m\"\u001b[39m\u001b[38;5;124mgeeks\u001b[39m\u001b[38;5;124m\"\u001b[39m:\n\u001b[1;32m----> 4\u001b[0m     \u001b[38;5;28;01mraise\u001b[39;00m \u001b[38;5;167;01mTypeError\u001b[39;00m(\u001b[38;5;124m\"\u001b[39m\u001b[38;5;124mBoth the strings are different.\u001b[39m\u001b[38;5;124m\"\u001b[39m)\n",
      "\u001b[1;31mTypeError\u001b[0m: Both the strings are different."
     ]
    }
   ],
   "source": [
    "# Raise Keyword\n",
    "temp = \"geeks for geeks\"\n",
    "if temp != \"geeks\":\n",
    "    raise TypeError(\"Both the strings are different.\")"
   ]
  },
  {
   "cell_type": "code",
   "execution_count": 39,
   "id": "838cebc9",
   "metadata": {},
   "outputs": [
    {
     "name": "stdout",
     "output_type": "stream",
     "text": [
      "20\n",
      "GeeksForGeeks\n"
     ]
    },
    {
     "ename": "NameError",
     "evalue": "name 'my_variable1' is not defined",
     "output_type": "error",
     "traceback": [
      "\u001b[1;31m---------------------------------------------------------------------------\u001b[0m",
      "\u001b[1;31mNameError\u001b[0m                                 Traceback (most recent call last)",
      "Cell \u001b[1;32mIn[39], line 9\u001b[0m\n\u001b[0;32m      7\u001b[0m \u001b[38;5;28;01mdel\u001b[39;00m my_variable1\n\u001b[0;32m      8\u001b[0m \u001b[38;5;28;01mdel\u001b[39;00m my_variable2\n\u001b[1;32m----> 9\u001b[0m \u001b[38;5;28mprint\u001b[39m(my_variable1)\n\u001b[0;32m     10\u001b[0m \u001b[38;5;28mprint\u001b[39m(my_variable2)\n",
      "\u001b[1;31mNameError\u001b[0m: name 'my_variable1' is not defined"
     ]
    }
   ],
   "source": [
    "# del in python\n",
    "\n",
    "my_variable1 = 20\n",
    "my_variable2 = \"GeeksForGeeks\"\n",
    "print(my_variable1)\n",
    "print(my_variable2)\n",
    "del my_variable1\n",
    "del my_variable2\n",
    "print(my_variable1)\n",
    "print(my_variable2)"
   ]
  },
  {
   "cell_type": "code",
   "execution_count": 40,
   "id": "2466427b",
   "metadata": {},
   "outputs": [
    {
     "name": "stdout",
     "output_type": "stream",
     "text": [
      "25\n",
      "20\n"
     ]
    }
   ],
   "source": [
    "a = 15\n",
    "b = 10\n",
    "def add():\n",
    "    c = a + b\n",
    "    print(c)\n",
    "add()\n",
    "\n",
    "\n",
    "def fun():\n",
    "    var1 = 10\n",
    " \n",
    "    def gun():\n",
    "        nonlocal var1\n",
    "         \n",
    "        var1 = var1 + 10\n",
    "        print(var1)\n",
    " \n",
    "    gun()\n",
    "fun()"
   ]
  },
  {
   "cell_type": "code",
   "execution_count": 41,
   "id": "08add136",
   "metadata": {},
   "outputs": [
    {
     "name": "stdout",
     "output_type": "stream",
     "text": [
      "s is part of geeksforgeeks\n",
      "g e e k s f o r g e e k s \r\n"
     ]
    }
   ],
   "source": [
    "# in and is \n",
    "  \n",
    "# using \"in\" to check  \n",
    "if 's' in 'geeksforgeeks': \n",
    "       print (\"s is part of geeksforgeeks\") \n",
    "else : print (\"s is not part of geeksforgeeks\") \n",
    "    \n",
    "# using \"in\" to loop through \n",
    "for i in 'geeksforgeeks': \n",
    "    print (i,end=\" \") \n",
    "    \n",
    "print (\"\\r\") "
   ]
  },
  {
   "cell_type": "code",
   "execution_count": 43,
   "id": "72312122",
   "metadata": {},
   "outputs": [
    {
     "name": "stdout",
     "output_type": "stream",
     "text": [
      "True\n"
     ]
    },
    {
     "name": "stderr",
     "output_type": "stream",
     "text": [
      "<>:1: SyntaxWarning: \"is\" with a literal. Did you mean \"==\"?\n",
      "<>:1: SyntaxWarning: \"is\" with a literal. Did you mean \"==\"?\n",
      "C:\\Users\\n\\AppData\\Local\\Temp\\ipykernel_6568\\3490873510.py:1: SyntaxWarning: \"is\" with a literal. Did you mean \"==\"?\n",
      "  print('1' is '1')\n"
     ]
    }
   ],
   "source": [
    "print('1' is '1')"
   ]
  },
  {
   "cell_type": "code",
   "execution_count": 44,
   "id": "8ae32f72",
   "metadata": {},
   "outputs": [],
   "source": [
    "# TYPE Conversion\n",
    "\n",
    "# Python Implicit Type Conversion\n",
    "# Python Explicit Type Conversion"
   ]
  },
  {
   "cell_type": "code",
   "execution_count": 45,
   "id": "f5211a91",
   "metadata": {},
   "outputs": [
    {
     "name": "stdout",
     "output_type": "stream",
     "text": [
      "x is of type: <class 'int'>\n",
      "y is of type: <class 'float'>\n",
      "20.6\n",
      "z is of type: <class 'float'>\n"
     ]
    }
   ],
   "source": [
    "\n",
    "# implicit example\n",
    "x = 10\n",
    " \n",
    "print(\"x is of type:\",type(x))\n",
    " \n",
    "y = 10.6\n",
    "print(\"y is of type:\",type(y))\n",
    " \n",
    "z = x + y\n",
    " \n",
    "print(z)\n",
    "print(\"z is of type:\",type(z))"
   ]
  },
  {
   "cell_type": "code",
   "execution_count": 46,
   "id": "bda49aa6",
   "metadata": {},
   "outputs": [
    {
     "name": "stdout",
     "output_type": "stream",
     "text": [
      "After converting to integer base 2 : 18\n",
      "After converting to float : 10010.0\n"
     ]
    }
   ],
   "source": [
    "# Explicit\n",
    "\n",
    "# initializing string\n",
    "s = \"10010\"\n",
    " \n",
    "# printing string converting to int base 2\n",
    "c = int(s,2)\n",
    "print (\"After converting to integer base 2 : \", end=\"\")\n",
    "print (c)\n",
    " \n",
    "# printing string converting to float\n",
    "e = float(s)\n",
    "print (\"After converting to float : \", end=\"\")\n",
    "print (e)"
   ]
  },
  {
   "cell_type": "code",
   "execution_count": 47,
   "id": "e7d9cb2f",
   "metadata": {},
   "outputs": [
    {
     "name": "stdout",
     "output_type": "stream",
     "text": [
      "After converting string to tuple : ('g', 'e', 'e', 'k', 's')\n",
      "After converting string to set : {'e', 'g', 'k', 's'}\n",
      "After converting string to list : ['g', 'e', 'e', 'k', 's']\n"
     ]
    }
   ],
   "source": [
    "# Type Conversion using Tuple, set, list\n",
    "\n",
    "   \n",
    "# initializing string\n",
    "s = 'geeks'\n",
    " \n",
    "# printing string converting to tuple\n",
    "c = tuple(s)\n",
    "print (\"After converting string to tuple : \",end=\"\")\n",
    "print (c)\n",
    " \n",
    "# printing string converting to set\n",
    "c = set(s)\n",
    "print (\"After converting string to set : \",end=\"\")\n",
    "print (c)\n",
    " \n",
    "# printing string converting to list\n",
    "c = list(s)\n",
    "print (\"After converting string to list : \",end=\"\")\n",
    "print (c)"
   ]
  },
  {
   "cell_type": "markdown",
   "id": "427e73d1",
   "metadata": {},
   "source": [
    "#### Packing and Unpacking\n",
    "\n",
    "list --> *\n",
    "\n",
    "Dict --> **"
   ]
  },
  {
   "cell_type": "code",
   "execution_count": 48,
   "id": "84999178",
   "metadata": {},
   "outputs": [
    {
     "name": "stdout",
     "output_type": "stream",
     "text": [
      "1 2 3 4\n"
     ]
    }
   ],
   "source": [
    "# Unpacking list\n",
    "\n",
    "# A sample function that takes 4 arguments\n",
    "# and prints the,\n",
    "def fun(a, b, c, d):\n",
    "    print(a, b, c, d)\n",
    "    \n",
    "# Driver Code\n",
    "my_list = [1, 2, 3, 4]\n",
    " \n",
    "# Unpacking list into four arguments\n",
    "fun(*my_list)"
   ]
  },
  {
   "cell_type": "code",
   "execution_count": 49,
   "id": "1bdccd27",
   "metadata": {},
   "outputs": [
    {
     "ename": "TypeError",
     "evalue": "func() takes 3 positional arguments but 4 were given",
     "output_type": "error",
     "traceback": [
      "\u001b[1;31m---------------------------------------------------------------------------\u001b[0m",
      "\u001b[1;31mTypeError\u001b[0m                                 Traceback (most recent call last)",
      "Cell \u001b[1;32mIn[49], line 10\u001b[0m\n\u001b[0;32m      7\u001b[0m     \u001b[38;5;28;01mreturn\u001b[39;00m a \u001b[38;5;241m+\u001b[39m b \u001b[38;5;241m+\u001b[39m c\n\u001b[0;32m      9\u001b[0m \u001b[38;5;66;03m# calling function with unpacking args\u001b[39;00m\n\u001b[1;32m---> 10\u001b[0m func(\u001b[38;5;241m*\u001b[39margs)\n",
      "\u001b[1;31mTypeError\u001b[0m: func() takes 3 positional arguments but 4 were given"
     ]
    }
   ],
   "source": [
    "# Error when len(args) != no of actual arguments\n",
    "# required by the function\n",
    " \n",
    "args = [0, 1, 4, 9]\n",
    " \n",
    "def func(a, b, c):\n",
    "    return a + b + c\n",
    " \n",
    "# calling function with unpacking args\n",
    "func(*args)"
   ]
  },
  {
   "cell_type": "code",
   "execution_count": 50,
   "id": "cd8f788b",
   "metadata": {},
   "outputs": [
    {
     "name": "stdout",
     "output_type": "stream",
     "text": [
      "15\n",
      "30\n"
     ]
    }
   ],
   "source": [
    "# Packing\n",
    "#  When we don’t \n",
    "# know how many arguments need to be passed to a python function,\n",
    "# we can use Packing to pack all arguments in a tuple.\n",
    "\n",
    "# This function uses packing to sum\n",
    "# unknown number of arguments\n",
    "def mySum(*args):\n",
    "    return sum(args)\n",
    " \n",
    "# Driver code\n",
    "print(mySum(1, 2, 3, 4, 5))\n",
    "print(mySum(10, 20))"
   ]
  },
  {
   "cell_type": "code",
   "execution_count": 51,
   "id": "ae12bdbf",
   "metadata": {},
   "outputs": [
    {
     "name": "stdout",
     "output_type": "stream",
     "text": [
      "2 4 10\n"
     ]
    }
   ],
   "source": [
    "# for Dictionary --> **\n",
    "\n",
    "# A sample program to demonstrate unpacking of\n",
    "# dictionary items using **\n",
    "def fun(a, b, c):\n",
    "    print(a, b, c)\n",
    "    \n",
    "# A call with unpacking of dictionary\n",
    "d = {'a':2, 'b':4, 'c':10}\n",
    "fun(**d)"
   ]
  },
  {
   "cell_type": "code",
   "execution_count": 52,
   "id": "e2ea3596",
   "metadata": {},
   "outputs": [
    {
     "name": "stdout",
     "output_type": "stream",
     "text": [
      "<class 'dict'>\n",
      "name = geeks\n",
      "ID = 101\n",
      "language = Python\n"
     ]
    }
   ],
   "source": [
    "   \n",
    "# A Python program to demonstrate packing of\n",
    "# dictionary items using **\n",
    "def fun(**kwargs):\n",
    " \n",
    "    # kwargs is a dict\n",
    "    print(type(kwargs))\n",
    " \n",
    "    # Printing dictionary items\n",
    "    for key in kwargs:\n",
    "        print(\"%s = %s\" % (key, kwargs[key]))\n",
    "        \n",
    "# Driver code\n",
    "fun(name=\"geeks\", ID=\"101\", language=\"Python\")"
   ]
  },
  {
   "cell_type": "markdown",
   "id": "131f8c91",
   "metadata": {},
   "source": [
    "#### End and Sept\n",
    "\n"
   ]
  },
  {
   "cell_type": "code",
   "execution_count": 53,
   "id": "3c33b41b",
   "metadata": {},
   "outputs": [
    {
     "name": "stdout",
     "output_type": "stream",
     "text": [
      "Welcome to GeeksforGeeks "
     ]
    }
   ],
   "source": [
    "# ends the output with a space\n",
    "print(\"Welcome to\", end = ' ')\n",
    "print(\"GeeksforGeeks\", end= ' ')"
   ]
  },
  {
   "cell_type": "code",
   "execution_count": 54,
   "id": "38ffbdee",
   "metadata": {},
   "outputs": [
    {
     "name": "stdout",
     "output_type": "stream",
     "text": [
      "Python@GeeksforGeeks\n"
     ]
    }
   ],
   "source": [
    "# ends the output with '@'\n",
    "print(\"Python\", end='@')\n",
    "print(\"GeeksforGeeks\")"
   ]
  },
  {
   "cell_type": "code",
   "execution_count": 55,
   "id": "d06822e7",
   "metadata": {},
   "outputs": [
    {
     "name": "stdout",
     "output_type": "stream",
     "text": [
      "GFG\n",
      "09-12-2016\n",
      "Red,Green,Blue@geeksforgeeks\n"
     ]
    }
   ],
   "source": [
    "print('G','F', sep='', end='')\n",
    "print('G')\n",
    "#\\n provides new line after printing the year\n",
    "print('09','12','2016', sep='-', end='\\n')\n",
    "  \n",
    "print('Red','Green','Blue', sep=',', end='@')\n",
    "print('geeksforgeeks')"
   ]
  },
  {
   "cell_type": "code",
   "execution_count": 56,
   "id": "0fd9b677",
   "metadata": {},
   "outputs": [
    {
     "name": "stdout",
     "output_type": "stream",
     "text": [
      "My name is Alice and I am 30 years old. Nice to meet you!\n"
     ]
    }
   ],
   "source": [
    "name = \"Alice\"\n",
    "age = 30\n",
    "print(\"My name is\", name, \"and I am\", age, \"years old.\", end=\" \")\n",
    "print(\"Nice to meet you!\")"
   ]
  },
  {
   "cell_type": "markdown",
   "id": "f6cf23c3",
   "metadata": {},
   "source": [
    "##### Logical and Bitwise Not Operators on Boolean"
   ]
  },
  {
   "cell_type": "code",
   "execution_count": 57,
   "id": "18aa012b",
   "metadata": {},
   "outputs": [
    {
     "name": "stdout",
     "output_type": "stream",
     "text": [
      "True\n",
      "False\n"
     ]
    }
   ],
   "source": [
    "   \n",
    "a = True\n",
    "b = not a\n",
    " \n",
    "print(a)  # True\n",
    "print(b)  # False"
   ]
  },
  {
   "cell_type": "code",
   "execution_count": 59,
   "id": "68aad1dc",
   "metadata": {},
   "outputs": [
    {
     "name": "stdout",
     "output_type": "stream",
     "text": [
      "False\n",
      "True\n"
     ]
    }
   ],
   "source": [
    "# A Python program that uses Logical Not or ! on boolean\n",
    "a = not True\n",
    "b = not False\n",
    "print(a)\n",
    "print(b)"
   ]
  },
  {
   "cell_type": "code",
   "execution_count": 60,
   "id": "f22b2e40",
   "metadata": {},
   "outputs": [
    {
     "name": "stdout",
     "output_type": "stream",
     "text": [
      "-2\n",
      "-1\n"
     ]
    }
   ],
   "source": [
    "# A Python program that uses Bitwise Not or ~ on boolean\n",
    "a = True\n",
    "b = False\n",
    "print(~a)\n",
    "print(~b)"
   ]
  },
  {
   "cell_type": "markdown",
   "id": "a54ea00e",
   "metadata": {},
   "source": [
    "##### Ternary Operator\n",
    "\n",
    "The Python ternary operator determines if a condition is true or false and then returns the appropriate value in accordance with the result."
   ]
  },
  {
   "cell_type": "code",
   "execution_count": 61,
   "id": "dfdfcb5e",
   "metadata": {},
   "outputs": [
    {
     "name": "stdout",
     "output_type": "stream",
     "text": [
      "10\n"
     ]
    }
   ],
   "source": [
    "# Program to demonstrate conditional operator\n",
    "a, b = 10, 20\n",
    " \n",
    "# Copy value of a in min if a < b else copy b\n",
    "min = a if a < b else b\n",
    " \n",
    "print(min)"
   ]
  },
  {
   "cell_type": "code",
   "execution_count": 63,
   "id": "f4972fee",
   "metadata": {},
   "outputs": [
    {
     "name": "stdout",
     "output_type": "stream",
     "text": [
      "a:  20\n",
      "b:  10\n"
     ]
    }
   ],
   "source": []
  },
  {
   "cell_type": "code",
   "execution_count": 64,
   "id": "c59b9321",
   "metadata": {},
   "outputs": [
    {
     "name": "stdout",
     "output_type": "stream",
     "text": [
      "b is greater than a\n"
     ]
    }
   ],
   "source": [
    "# Python program to demonstrate nested ternary operator\n",
    "a, b = 10, 20\n",
    " \n",
    "print (\"Both a and b are equal\" if a == b else \"a is greater than b\"\n",
    "        if a > b else \"b is greater than a\")"
   ]
  },
  {
   "cell_type": "markdown",
   "id": "b0106334",
   "metadata": {},
   "source": [
    "##### Switching variables"
   ]
  },
  {
   "cell_type": "code",
   "execution_count": 104,
   "id": "d24117e5",
   "metadata": {},
   "outputs": [
    {
     "name": "stdout",
     "output_type": "stream",
     "text": [
      "a:  20\n",
      "b:  10\n"
     ]
    }
   ],
   "source": [
    "# Switching two variables without using 3rd variable\n",
    "a = 10\n",
    "b = 20\n",
    "a,b = b,a\n",
    "print(\"a: \",a)\n",
    "print(\"b: \",b)"
   ]
  },
  {
   "cell_type": "markdown",
   "id": "e83d4f65",
   "metadata": {},
   "source": [
    "##### Increment and Decrement Operators "
   ]
  },
  {
   "cell_type": "code",
   "execution_count": 66,
   "id": "ddb6e787",
   "metadata": {},
   "outputs": [
    {
     "name": "stdout",
     "output_type": "stream",
     "text": [
      "Incremented value: 6\n"
     ]
    }
   ],
   "source": [
    "# Initializing a variable\n",
    "x = 5\n",
    " \n",
    "# Incrementing the variable by 1\n",
    "# Equivalent to x = x + 1\n",
    "x += 1\n",
    " \n",
    "# Displaying the result\n",
    "print(\"Incremented value:\", x)"
   ]
  },
  {
   "cell_type": "code",
   "execution_count": 67,
   "id": "297808f2",
   "metadata": {},
   "outputs": [
    {
     "name": "stdout",
     "output_type": "stream",
     "text": [
      "Decremented value: 9\n"
     ]
    }
   ],
   "source": [
    "# Initializing a variable\n",
    "x = 10\n",
    "\n",
    "# Decrementing the variable by 1\n",
    "# Equivalent to x = x - 1\n",
    "x -= 1\n",
    "\n",
    "# Displaying the result\n",
    "print(\"Decremented value:\", x)"
   ]
  },
  {
   "cell_type": "code",
   "execution_count": 68,
   "id": "83702e72",
   "metadata": {},
   "outputs": [
    {
     "name": "stdout",
     "output_type": "stream",
     "text": [
      "The Value of Count is 2\n",
      "INCREMENTED FOR LOOP\n",
      "0\n",
      "1\n",
      "2\n",
      "3\n",
      "4\n",
      "\n",
      " DECREMENTED FOR LOOP\n",
      "4\n",
      "3\n",
      "2\n",
      "1\n",
      "0\n"
     ]
    }
   ],
   "source": [
    "# A sample use of increasing the variable value by one.\n",
    "count = 0\n",
    "count += 1\n",
    "count = count+1\n",
    "print('The Value of Count is', count)\n",
    "\n",
    "print(\"INCREMENTED FOR LOOP\")\n",
    "for i in range(0, 5):\n",
    "    print(i)\n",
    "\n",
    "# this is for increment operator here start = 5,\n",
    "# stop = -1 and step = -1\n",
    "print(\"\\n DECREMENTED FOR LOOP\")\n",
    "for i in range(4, -1, -1):\n",
    "    print(i)"
   ]
  },
  {
   "cell_type": "markdown",
   "id": "8a01834d",
   "metadata": {},
   "source": [
    "##### Division Operators\n",
    "\n",
    "Float division\n",
    "\n",
    "Integer division( Floor division)"
   ]
  },
  {
   "cell_type": "code",
   "execution_count": 69,
   "id": "2e8156c8",
   "metadata": {},
   "outputs": [
    {
     "name": "stdout",
     "output_type": "stream",
     "text": [
      "1.0\n",
      "5.0\n",
      "-5.0\n",
      "10.0\n"
     ]
    }
   ],
   "source": [
    "# Float Division\n",
    "print(5/5)\n",
    "print(10/2)\n",
    "print(-10/2)\n",
    "print(20.0/2)"
   ]
  },
  {
   "cell_type": "code",
   "execution_count": 70,
   "id": "08cea5af",
   "metadata": {},
   "outputs": [
    {
     "name": "stdout",
     "output_type": "stream",
     "text": [
      "1\n",
      "1\n",
      "3\n"
     ]
    }
   ],
   "source": [
    "# Floor Division\n",
    "\n",
    "   \n",
    "print(5//5)\n",
    "print(3//2)\n",
    "print(10//3)"
   ]
  },
  {
   "cell_type": "code",
   "execution_count": 71,
   "id": "3c444351",
   "metadata": {},
   "outputs": [
    {
     "name": "stdout",
     "output_type": "stream",
     "text": [
      "2\n",
      "-3\n"
     ]
    }
   ],
   "source": [
    "  \n",
    "# A Python program to demonstrate the use of \n",
    "# \"//\" for integers\n",
    "print (5//2)\n",
    "print (-5//2)"
   ]
  },
  {
   "cell_type": "code",
   "execution_count": 72,
   "id": "1697b9e1",
   "metadata": {},
   "outputs": [
    {
     "name": "stdout",
     "output_type": "stream",
     "text": [
      "2\n",
      "-3\n",
      "2.0\n",
      "-3.0\n"
     ]
    }
   ],
   "source": [
    "# A Python program to demonstrate use of \n",
    "# \"//\" for both integers and floating points\n",
    "print (5//2)\n",
    "print (-5//2)\n",
    "print (5.0//2)\n",
    "print (-5.0//2)"
   ]
  },
  {
   "cell_type": "markdown",
   "id": "61d40c68",
   "metadata": {},
   "source": [
    "#### Any & All "
   ]
  },
  {
   "cell_type": "code",
   "execution_count": 74,
   "id": "36924924",
   "metadata": {},
   "outputs": [
    {
     "name": "stdout",
     "output_type": "stream",
     "text": [
      "False\n",
      "True\n",
      "True\n"
     ]
    }
   ],
   "source": [
    "# Any Returns true if any of the items is True and returns False if empty or all are false.\n",
    "\n",
    "# Since all are false, false is returned\n",
    "print (any([False, False, False, False]))\n",
    " \n",
    "# Here the method will short-circuit at the\n",
    "# second item (True) and will return True.\n",
    "print (any([False, True, False, False]))\n",
    " \n",
    "# Here the method will short-circuit at the\n",
    "# first (True) and will return True.\n",
    "print (any([True, False, False, False]))"
   ]
  },
  {
   "cell_type": "code",
   "execution_count": 75,
   "id": "d47f76b0",
   "metadata": {},
   "outputs": [
    {
     "name": "stdout",
     "output_type": "stream",
     "text": [
      "True\n",
      "False\n",
      "False\n"
     ]
    }
   ],
   "source": [
    "# All Returns true if all of the items are True (or if the iterable is empty).\n",
    "\n",
    "# Here all the iterables are True so all\n",
    "# will return True and the same will be printed\n",
    "print (all([True, True, True, True]))\n",
    " \n",
    "# Here the method will short-circuit at the \n",
    "# first item (False) and will return False.\n",
    "print (all([False, True, True, False]))\n",
    " \n",
    "# This statement will return False, as no\n",
    "# True is found in the iterables\n",
    "print (all([False, False, False]))"
   ]
  },
  {
   "cell_type": "markdown",
   "id": "eb66aaac",
   "metadata": {},
   "source": [
    "#### bool\n",
    "\n",
    "Python bool() function is used to return or convert a value to a Boolean value i.e., True or False, using the standard truth testing procedure. "
   ]
  },
  {
   "cell_type": "code",
   "execution_count": 76,
   "id": "e7492e35",
   "metadata": {},
   "outputs": [
    {
     "name": "stdout",
     "output_type": "stream",
     "text": [
      "True\n",
      "False\n"
     ]
    }
   ],
   "source": [
    "x = bool(1)\n",
    "print(x)\n",
    "y = bool()\n",
    "print(y)"
   ]
  },
  {
   "cell_type": "code",
   "execution_count": 77,
   "id": "c076b128",
   "metadata": {},
   "outputs": [
    {
     "name": "stdout",
     "output_type": "stream",
     "text": [
      "False\n",
      "True\n",
      "False\n"
     ]
    }
   ],
   "source": [
    " \n",
    "# Python program to illustrate\n",
    "# built-in method bool()\n",
    " \n",
    "# Returns False as x is False\n",
    "x = False\n",
    "print(bool(x))\n",
    " \n",
    "# Returns True as x is True\n",
    "x = True\n",
    "print(bool(x))\n",
    " \n",
    "# Returns False as x is not equal to y\n",
    "x = 5\n",
    "y = 10\n",
    "print(bool(x == y))"
   ]
  },
  {
   "cell_type": "code",
   "execution_count": 105,
   "id": "f3e51a16",
   "metadata": {},
   "outputs": [
    {
     "name": "stdout",
     "output_type": "stream",
     "text": [
      "Are you hungry? True or false: True\n",
      " You need to eat some foods \n"
     ]
    }
   ],
   "source": [
    "user_input = bool(input(\"Are you hungry? True or false: \"))\n",
    "if user_input == True:\n",
    "    print(\" You need to eat some foods \")\n",
    "else:\n",
    "    print(\"Let's go for walk\")"
   ]
  },
  {
   "cell_type": "code",
   "execution_count": 84,
   "id": "6b04b159",
   "metadata": {},
   "outputs": [
    {
     "name": "stdout",
     "output_type": "stream",
     "text": [
      "Even\n"
     ]
    }
   ],
   "source": [
    "# Python code to check whether a number\n",
    "# is even or odd using bool()\n",
    "\n",
    "def checkEvenOdd(num):\n",
    "    return(bool(num % 2 == 0))\n",
    "\n",
    "num = 8\n",
    "if(checkEvenOdd(num)):\n",
    "    print('Even')\n",
    "else:\n",
    "    print('Odd')"
   ]
  },
  {
   "cell_type": "markdown",
   "id": "fb99e4eb",
   "metadata": {},
   "source": [
    "#### Loops and Control Statements"
   ]
  },
  {
   "cell_type": "code",
   "execution_count": 85,
   "id": "c98e054f",
   "metadata": {},
   "outputs": [
    {
     "name": "stdout",
     "output_type": "stream",
     "text": [
      "Hello Geek!!\n",
      "Hello Geek!!\n",
      "Hello Geek!!\n"
     ]
    }
   ],
   "source": [
    "# while\n",
    "\n",
    "count = 0\n",
    "while(count < 3):\n",
    "    count = count+1\n",
    "    print(\"Hello Geek!!\")"
   ]
  },
  {
   "cell_type": "code",
   "execution_count": 86,
   "id": "a599cfdc",
   "metadata": {},
   "outputs": [
    {
     "name": "stdout",
     "output_type": "stream",
     "text": [
      "List Iteration\n",
      "geeks\n",
      "for\n",
      "geeks\n"
     ]
    }
   ],
   "source": [
    "# For Loop\n",
    "\n",
    "# Iterating over a list\n",
    "print(\"List Iteration\")\n",
    "l = [\"geeks\", \"for\", \"geeks\"]\n",
    "for i in l:\n",
    "    print(i)"
   ]
  },
  {
   "cell_type": "code",
   "execution_count": 87,
   "id": "9b521506",
   "metadata": {},
   "outputs": [
    {
     "name": "stdout",
     "output_type": "stream",
     "text": [
      "\n",
      "String Iteration\n",
      "G\n",
      "e\n",
      "e\n",
      "k\n",
      "s\n"
     ]
    }
   ],
   "source": [
    "# Iterating over a String\n",
    "print(\"\\nString Iteration\")    \n",
    "s = \"Geeks\"\n",
    "for i in s :\n",
    "    print(i)"
   ]
  },
  {
   "cell_type": "code",
   "execution_count": 88,
   "id": "96abcde1",
   "metadata": {},
   "outputs": [
    {
     "name": "stdout",
     "output_type": "stream",
     "text": [
      "\n",
      "Dictionary Iteration\n",
      "xyz 123\n",
      "abc 345\n"
     ]
    }
   ],
   "source": [
    "# Iterating over dictionary\n",
    "print(\"\\nDictionary Iteration\")\n",
    "d = dict()\n",
    "d['xyz'] = 123\n",
    "d['abc'] = 345\n",
    "for i in d :\n",
    "    print(\"%s %d\" %(i, d[i]))"
   ]
  },
  {
   "cell_type": "markdown",
   "id": "30f1e729",
   "metadata": {},
   "source": [
    "##### Nested Loops\n",
    "\n",
    "for iterator_var in sequence:\n",
    "\n",
    "    for iterator_var in sequence:\n",
    "    \n",
    "        statements(s)\n",
    "        \n",
    "        statements(s)\n",
    "        \n",
    "\n",
    "''' \n",
    "while expression:\n",
    "\n",
    "    while expression: \n",
    "    \n",
    "        statement(s)\n",
    "   \n",
    "'''"
   ]
  },
  {
   "cell_type": "code",
   "execution_count": 107,
   "id": "4e1193f7",
   "metadata": {},
   "outputs": [
    {
     "name": "stdout",
     "output_type": "stream",
     "text": [
      "* \n",
      "* * \n",
      "* * * \n",
      "* * * * \n"
     ]
    }
   ],
   "source": [
    "for i in range(1,5):\n",
    "    for j in range(i):\n",
    "        print('*', end=\" \")\n",
    "    print()"
   ]
  },
  {
   "cell_type": "code",
   "execution_count": 92,
   "id": "cf9270a9",
   "metadata": {},
   "outputs": [
    {
     "name": "stdout",
     "output_type": "stream",
     "text": [
      "Current Letters:  g\n",
      "Current Letters:  k\n",
      "Current Letters:  f\n",
      "Current Letters:  o\n",
      "Current Letters:  r\n",
      "Current Letters:  g\n",
      "Current Letters:  k\n"
     ]
    }
   ],
   "source": [
    "# Continue\n",
    "\n",
    "# Prints all letters except 'e' and 's' --> geeksforgeeks\n",
    "for letter in 'geeksforgeeks':\n",
    "    if letter == 'e' or letter == 's':\n",
    "        continue\n",
    "    print('Current Letters: ', letter)"
   ]
  },
  {
   "cell_type": "code",
   "execution_count": 93,
   "id": "f655d869",
   "metadata": {},
   "outputs": [
    {
     "name": "stdout",
     "output_type": "stream",
     "text": [
      "Current Letter:  g\n"
     ]
    }
   ],
   "source": [
    "# break --> break the loop when statement gets true\n",
    "\n",
    "for letter in 'geeksforgeeks':\n",
    "    if letter == 'e' or letter == 's':\n",
    "        break\n",
    "    print('Current Letter: ', letter)"
   ]
  },
  {
   "cell_type": "code",
   "execution_count": 94,
   "id": "15e237dd",
   "metadata": {},
   "outputs": [
    {
     "name": "stdout",
     "output_type": "stream",
     "text": [
      "s\n"
     ]
    }
   ],
   "source": [
    "# We use pass statements to write empty loops\n",
    "for letter in 'geeks':\n",
    "    pass\n",
    "print(letter)"
   ]
  },
  {
   "cell_type": "code",
   "execution_count": 95,
   "id": "e362cd64",
   "metadata": {},
   "outputs": [
    {
     "name": "stdout",
     "output_type": "stream",
     "text": [
      "Aston\n",
      "Audi\n",
      "McLaren\n"
     ]
    }
   ],
   "source": [
    "# A C-style way of accessing list elements\n",
    "cars = [\"Aston\", \"Audi\", \"McLaren\"]\n",
    "i = 0\n",
    "while (i < len(cars)):\n",
    "    print(cars[i])\n",
    "    i += 1"
   ]
  },
  {
   "cell_type": "code",
   "execution_count": 96,
   "id": "21b15598",
   "metadata": {},
   "outputs": [
    {
     "name": "stdout",
     "output_type": "stream",
     "text": [
      "Aston\n",
      "Audi\n",
      "McLaren\n"
     ]
    }
   ],
   "source": [
    "# Accessing items using for-in loop\n",
    "cars = [\"Aston\", \"Audi\", \"McLaren\"]\n",
    "for x in cars:\n",
    "    print(x)"
   ]
  },
  {
   "cell_type": "code",
   "execution_count": 97,
   "id": "fe239c82",
   "metadata": {},
   "outputs": [
    {
     "name": "stdout",
     "output_type": "stream",
     "text": [
      "Aston\n",
      "Audi\n",
      "McLaren\n"
     ]
    }
   ],
   "source": [
    "# Accessing items using indexes and for-in\n",
    " \n",
    "cars = [\"Aston\", \"Audi\", \"McLaren\"]\n",
    "for i in range(len(cars)):\n",
    "    print(cars[i])"
   ]
  },
  {
   "cell_type": "markdown",
   "id": "f30839d3",
   "metadata": {},
   "source": [
    "#### Enumerate: \n",
    "\n",
    "Enumerate is a built-in python function that takes input as iterator, list etc and returns a tuple containing index and data at that index in the iterator sequence. For example, enumerate(cars), returns a iterator that will return (0, cars[0]), (1, cars[1]), (2, cars[2]), and so on. "
   ]
  },
  {
   "cell_type": "code",
   "execution_count": 101,
   "id": "dbf2b609",
   "metadata": {},
   "outputs": [
    {
     "name": "stdout",
     "output_type": "stream",
     "text": [
      "0 Aston\n",
      "1 Audi\n",
      "2 McLaren \n"
     ]
    }
   ],
   "source": [
    "# Accessing items using enumerate()\n",
    " \n",
    "cars = [\"Aston\", \"Audi\", \"McLaren \"]\n",
    "for i,x in enumerate(cars):\n",
    "    print(i , x)"
   ]
  },
  {
   "cell_type": "code",
   "execution_count": 102,
   "id": "7a83a1ab",
   "metadata": {},
   "outputs": [
    {
     "name": "stdout",
     "output_type": "stream",
     "text": [
      "0 Aston\n",
      "1 Audi\n",
      "2 McLaren \n"
     ]
    }
   ],
   "source": [
    "# Accessing items and indexes enumerate()\n",
    " \n",
    "cars = [\"Aston\" , \"Audi\", \"McLaren \"]\n",
    "for x in enumerate(cars):\n",
    "    print (x[0], x[1])"
   ]
  },
  {
   "cell_type": "markdown",
   "id": "6a4f89cd",
   "metadata": {},
   "source": [
    "#### Multiple Input"
   ]
  },
  {
   "cell_type": "code",
   "execution_count": 108,
   "id": "f6d71289",
   "metadata": {},
   "outputs": [
    {
     "name": "stdout",
     "output_type": "stream",
     "text": [
      "2 32 421  423\n",
      "array: ['2', '32', '421', '423']\n"
     ]
    },
    {
     "data": {
      "text/plain": [
       "list"
      ]
     },
     "execution_count": 108,
     "metadata": {},
     "output_type": "execute_result"
    }
   ],
   "source": [
    "# take multiple inputs in array\n",
    "input_str_array = input().split()\n",
    " \n",
    "print(\"array:\", input_str_array)\n",
    "type(input_str_array)"
   ]
  },
  {
   "cell_type": "code",
   "execution_count": null,
   "id": "f4036208",
   "metadata": {},
   "outputs": [],
   "source": []
  }
 ],
 "metadata": {
  "kernelspec": {
   "display_name": "Python 3 (ipykernel)",
   "language": "python",
   "name": "python3"
  },
  "language_info": {
   "codemirror_mode": {
    "name": "ipython",
    "version": 3
   },
   "file_extension": ".py",
   "mimetype": "text/x-python",
   "name": "python",
   "nbconvert_exporter": "python",
   "pygments_lexer": "ipython3",
   "version": "3.11.5"
  }
 },
 "nbformat": 4,
 "nbformat_minor": 5
}
