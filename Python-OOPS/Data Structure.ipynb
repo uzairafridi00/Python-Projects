{
 "cells": [
  {
   "cell_type": "markdown",
   "id": "eed2a069",
   "metadata": {},
   "source": [
    "#### Lists\n",
    "\n",
    "1. Python Lists are ordered collections of data just like arrays in other programming languages. \n",
    "2. It allows different types of elements in the list.\n",
    "3. [] --> representation\n",
    "4. Allows duplicate values\n",
    "5. Can be created by list()\n",
    "6. A list is mutable\n",
    "7. List is ordered\n"
   ]
  },
  {
   "cell_type": "code",
   "execution_count": 2,
   "id": "870c8f36",
   "metadata": {},
   "outputs": [
    {
     "name": "stdout",
     "output_type": "stream",
     "text": [
      "[1, 3, 4, 'GFG', 2.3]\n"
     ]
    }
   ],
   "source": [
    "list1 = [1,3,4,'GFG', 2.3]\n",
    "print(list1)"
   ]
  },
  {
   "cell_type": "code",
   "execution_count": 3,
   "id": "812462b5",
   "metadata": {},
   "outputs": [
    {
     "name": "stdout",
     "output_type": "stream",
     "text": [
      "\n",
      "List containing multiple values: \n",
      "['Geeks', 'For', 'Geeks']\n"
     ]
    }
   ],
   "source": [
    "# Creating a List with\n",
    "# the use of multiple values\n",
    "List = [\"Geeks\", \"For\", \"Geeks\"]\n",
    "print(\"\\nList containing multiple values: \")\n",
    "print(List)"
   ]
  },
  {
   "cell_type": "code",
   "execution_count": 4,
   "id": "9a9b926c",
   "metadata": {},
   "outputs": [
    {
     "name": "stdout",
     "output_type": "stream",
     "text": [
      "\n",
      "Multi-Dimensional List: \n",
      "[['Geeks', 'For'], ['Geeks']]\n"
     ]
    }
   ],
   "source": [
    "# Creating a Multi-Dimensional List\n",
    "# (By Nesting a list inside a List)\n",
    "List2 = [['Geeks', 'For'], ['Geeks']]\n",
    "print(\"\\nMulti-Dimensional List: \")\n",
    "print(List2)"
   ]
  },
  {
   "cell_type": "code",
   "execution_count": 5,
   "id": "912d333c",
   "metadata": {},
   "outputs": [
    {
     "name": "stdout",
     "output_type": "stream",
     "text": [
      "Accessing element from the list\n",
      "Geeks\n",
      "Geeks\n"
     ]
    }
   ],
   "source": [
    "# accessing a element from the\n",
    "# list using index number\n",
    "print(\"Accessing element from the list\")\n",
    "print(List[0])\n",
    "print(List[2])"
   ]
  },
  {
   "cell_type": "code",
   "execution_count": 6,
   "id": "ddfd9da1",
   "metadata": {},
   "outputs": [
    {
     "name": "stdout",
     "output_type": "stream",
     "text": [
      "Accessing element using negative indexing\n",
      "Geeks\n",
      "Geeks\n"
     ]
    }
   ],
   "source": [
    "# accessing a element using\n",
    "# negative indexing\n",
    "print(\"Accessing element using negative indexing\")\n",
    "     \n",
    "# print the last element of list\n",
    "print(List[-1])\n",
    "     \n",
    "# print the third last element of list\n",
    "print(List[-3])"
   ]
  },
  {
   "cell_type": "markdown",
   "id": "d46ed88f",
   "metadata": {},
   "source": [
    "### Tuple\n",
    "\n",
    "1. Python tuples are similar to lists\n",
    "2. But Tuples are immutable in nature i.e. once created it cannot be modified\n",
    "3. To create a tuple of one element there must be a trailing comma. For example, (8,)\n",
    "4. () --> representation\n",
    "5. Can be created by tuple()\n",
    "6. Tuple is ordered\n",
    "7. Allow duplicate values"
   ]
  },
  {
   "cell_type": "code",
   "execution_count": 7,
   "id": "016b95ac",
   "metadata": {},
   "outputs": [
    {
     "name": "stdout",
     "output_type": "stream",
     "text": [
      "\n",
      "Tuple with the use of String: \n",
      "('Geeks', 'For')\n"
     ]
    }
   ],
   "source": [
    "# creating a tuple\n",
    "\n",
    "Tuple = ('Geeks','For')\n",
    "print(\"\\nTuple with the use of String: \")\n",
    "print(Tuple)"
   ]
  },
  {
   "cell_type": "code",
   "execution_count": 9,
   "id": "fa91aaa0",
   "metadata": {},
   "outputs": [
    {
     "name": "stdout",
     "output_type": "stream",
     "text": [
      "\n",
      "Tuple using List: \n",
      "(1, 2, 4, 5, 6)\n"
     ]
    }
   ],
   "source": [
    "# Creating a Tuple with\n",
    "# the use of list\n",
    "list1 = [1, 2, 4, 5, 6]\n",
    "print(\"\\nTuple using List: \")\n",
    "Tuple = tuple(list1)\n",
    "print(Tuple)"
   ]
  },
  {
   "cell_type": "code",
   "execution_count": 10,
   "id": "4a1cfa3c",
   "metadata": {},
   "outputs": [
    {
     "name": "stdout",
     "output_type": "stream",
     "text": [
      "First element of tuple\n",
      "1\n"
     ]
    }
   ],
   "source": [
    "# Accessing element using indexing\n",
    "print(\"First element of tuple\")\n",
    "print(Tuple[0])"
   ]
  },
  {
   "cell_type": "code",
   "execution_count": 11,
   "id": "cb502b6e",
   "metadata": {},
   "outputs": [
    {
     "name": "stdout",
     "output_type": "stream",
     "text": [
      "\n",
      "Last element of tuple\n",
      "6\n",
      "\n",
      "Third last element of tuple\n",
      "4\n"
     ]
    }
   ],
   "source": [
    "# Accessing element from last\n",
    "# negative indexing\n",
    "print(\"\\nLast element of tuple\")\n",
    "print(Tuple[-1])\n",
    " \n",
    "print(\"\\nThird last element of tuple\")\n",
    "print(Tuple[-3])"
   ]
  },
  {
   "cell_type": "markdown",
   "id": "c1656d4a",
   "metadata": {},
   "source": [
    "### Set\n",
    "\n",
    "1. Python set is a mutable collection of data that does not allow any duplication\n",
    "2. representation --> { }\n",
    "3. Not allow duplicate values\n",
    "4. Can be created using the set()\n",
    "5. Mutable\n",
    "6. Set is unordered"
   ]
  },
  {
   "cell_type": "code",
   "execution_count": 12,
   "id": "37535858",
   "metadata": {},
   "outputs": [
    {
     "name": "stdout",
     "output_type": "stream",
     "text": [
      "\n",
      "Set with the use of Mixed Values\n",
      "{1, 2, 'Geeks', 4, 6, 'For'}\n"
     ]
    }
   ],
   "source": [
    "# Creating a Set with\n",
    "# a mixed type of values\n",
    "# (Having numbers and strings)\n",
    "Set = set([1, 2, 'Geeks', 4, 'For', 6, 'Geeks'])\n",
    "print(\"\\nSet with the use of Mixed Values\")\n",
    "print(Set)"
   ]
  },
  {
   "cell_type": "code",
   "execution_count": 16,
   "id": "b967ed95",
   "metadata": {},
   "outputs": [
    {
     "name": "stdout",
     "output_type": "stream",
     "text": [
      "Elements of Set\n",
      "1 2 Geeks 4 6 For \n"
     ]
    }
   ],
   "source": [
    "# Accessing element using\n",
    "# for loop\n",
    "print('Elements of Set')\n",
    "for i in Set:\n",
    "    print(i, end=\" \")"
   ]
  },
  {
   "cell_type": "markdown",
   "id": "8b3b8378",
   "metadata": {},
   "source": [
    "### Frozen Sets\n",
    "\n",
    "1. Frozen sets in Python are immutable objects\n",
    "2. Only support methods and operators that produce a result without affecting the frozen set\n",
    "3. While elements of a set can be modified at any time, \n",
    "4. elements of the frozen set remain the same after creation."
   ]
  },
  {
   "cell_type": "code",
   "execution_count": 17,
   "id": "197c0f1c",
   "metadata": {},
   "outputs": [
    {
     "name": "stdout",
     "output_type": "stream",
     "text": [
      "Normal Set:  {1, 3, 4, 'b', 'a'}\n"
     ]
    }
   ],
   "source": [
    "# creating normal set\n",
    "normal_set = set([1,3,4,'a','b'])\n",
    "print('Normal Set: ', normal_set)"
   ]
  },
  {
   "cell_type": "code",
   "execution_count": 21,
   "id": "f6208dd5",
   "metadata": {},
   "outputs": [
    {
     "name": "stdout",
     "output_type": "stream",
     "text": [
      "Frozen Set:  frozenset({'g', 'f', 'h', 'e'})\n"
     ]
    }
   ],
   "source": [
    "# A frozen set\n",
    "\n",
    "frozen_set = frozenset(['e','f','g','h'])\n",
    "print('Frozen Set: ', frozen_set)\n",
    "\n",
    "# Uncommenting below line would cause error as\n",
    "# we are trying to add element to a frozen set\n",
    "# frozen_set.add(\"h\")"
   ]
  },
  {
   "cell_type": "markdown",
   "id": "37ead4c0",
   "metadata": {},
   "source": [
    "### Strings\n",
    "\n",
    "1. Python Strings is the immutable array of bytes representing Unicode characters.\n",
    "2. As strings are immutable, modifying a string will result in creating a new copy."
   ]
  },
  {
   "cell_type": "code",
   "execution_count": 22,
   "id": "cb26fba6",
   "metadata": {},
   "outputs": [
    {
     "name": "stdout",
     "output_type": "stream",
     "text": [
      "Creating String: \n",
      "Welcome to GeeksForGeeks\n",
      "\n",
      "First character of String is: \n",
      "W\n",
      "\n",
      "Last character of String is: \n",
      "s\n"
     ]
    }
   ],
   "source": [
    "String = \"Welcome to GeeksForGeeks\"\n",
    "print(\"Creating String: \")\n",
    "print(String)\n",
    "     \n",
    "# Printing First character\n",
    "print(\"\\nFirst character of String is: \")\n",
    "print(String[0])\n",
    "     \n",
    "# Printing Last character\n",
    "print(\"\\nLast character of String is: \")\n",
    "print(String[-1])"
   ]
  },
  {
   "cell_type": "markdown",
   "id": "d6ea2500",
   "metadata": {},
   "source": [
    "### Dictionary\n",
    "\n",
    "1. Python dictionary is an unordered collection of data that stores data in the format of key:value pair.\n",
    "2. { } --> representation\n",
    "3. doesn’t allow duplicate keys.\n",
    "4. can be created using the dict() function\n",
    "5. A dictionary is mutable\n",
    "6. Keys are not duplicated.\n",
    "7. Dictionary is ordered (Python 3.7 and above)"
   ]
  },
  {
   "cell_type": "code",
   "execution_count": 24,
   "id": "16c98e3b",
   "metadata": {},
   "outputs": [
    {
     "name": "stdout",
     "output_type": "stream",
     "text": [
      "{'Name': 'Uzair', 1: [2, 3, 4]}\n"
     ]
    }
   ],
   "source": [
    "# creating a dictionary\n",
    "Dict = {'Name':'Uzair', 1: [2,3,4]}\n",
    "print(Dict)"
   ]
  },
  {
   "cell_type": "code",
   "execution_count": 25,
   "id": "41bb70dc",
   "metadata": {},
   "outputs": [
    {
     "name": "stdout",
     "output_type": "stream",
     "text": [
      "Accessing a element using key:\n",
      "Uzair\n"
     ]
    }
   ],
   "source": [
    "# accessing a element using key\n",
    "print(\"Accessing a element using key:\")\n",
    "print(Dict['Name'])"
   ]
  },
  {
   "cell_type": "code",
   "execution_count": 26,
   "id": "d89d8cf5",
   "metadata": {},
   "outputs": [
    {
     "name": "stdout",
     "output_type": "stream",
     "text": [
      "Accessing a element using get:\n",
      "[2, 3, 4]\n"
     ]
    }
   ],
   "source": [
    "# accessing a element using get()\n",
    "# method\n",
    "print(\"Accessing a element using get:\")\n",
    "print(Dict.get(1))"
   ]
  },
  {
   "cell_type": "markdown",
   "id": "4c76f7b6",
   "metadata": {},
   "source": [
    "### Linked List\n",
    "\n",
    "A linked list is a linear data structure, in which the elements are not stored \n",
    "at contiguous memory locations. The elements in a linked list are linked using pointers.\n",
    "\n",
    "A linked list is represented by a pointer to the first node of the linked list. \n",
    "The first node is called the head. If the linked list is empty, then the value \n",
    "of the head is NULL. Each node in a list consists of at least two parts:\n",
    "\n",
    "1. Data\n",
    "2. Pointer (Or Reference) to the next node"
   ]
  },
  {
   "cell_type": "code",
   "execution_count": 27,
   "id": "6610d00d",
   "metadata": {},
   "outputs": [],
   "source": [
    "# Node class\n",
    "\n",
    "class Node:\n",
    "    \n",
    "    # function to initialize the node object\n",
    "    def __init__(self,data):\n",
    "        self.data = data   # assign the data\n",
    "        self.next = None   # Initialize \n",
    "        \n",
    "\n",
    "# Linked List class\n",
    "class LinkedList:\n",
    "    \n",
    "    # function to initialize the linked list obj\n",
    "    def __init__(self):\n",
    "        self.head = None"
   ]
  },
  {
   "cell_type": "code",
   "execution_count": 30,
   "id": "ba16b17c",
   "metadata": {},
   "outputs": [
    {
     "ename": "IndentationError",
     "evalue": "unexpected indent (1115785615.py, line 23)",
     "output_type": "error",
     "traceback": [
      "\u001b[1;36m  Cell \u001b[1;32mIn[30], line 23\u001b[1;36m\u001b[0m\n\u001b[1;33m    llist.head.next = second  # link first node with second\u001b[0m\n\u001b[1;37m    ^\u001b[0m\n\u001b[1;31mIndentationError\u001b[0m\u001b[1;31m:\u001b[0m unexpected indent\n"
     ]
    }
   ],
   "source": [
    "# code execution starts here\n",
    "if __name__ == '__main__':\n",
    "    # start with the empty list\n",
    "    llist = LinkedList()\n",
    "    llist.head = Node(1)\n",
    "    second = Node(2)\n",
    "    third = Node(3)\n",
    "    \n",
    "''' \n",
    "Three nodes have been created.\n",
    "    We have references to these three blocks as head,\n",
    "    second and third\n",
    " \n",
    "    llist.head     second             third\n",
    "        |             |                 |\n",
    "        |             |                 |\n",
    "    +----+------+     +----+------+     +----+------+\n",
    "    | 1 | None |     | 2 | None |     | 3 | None |\n",
    "    +----+------+     +----+------+     +----+------+\n",
    "\n",
    "'''\n",
    "        \n",
    "    llist.head.next = second  # link first node with second\n",
    "    \n",
    "    '''\n",
    "    Now next of first Node refers to second. So they\n",
    "    both are linked.\n",
    " \n",
    "    llist.head     second             third\n",
    "        |             |                 |\n",
    "        |             |                 |\n",
    "    +----+------+     +----+------+     +----+------+\n",
    "    | 1 | o-------->| 2 | null |     | 3 | null |\n",
    "    +----+------+     +----+------+     +----+------+\n",
    "    '''\n",
    "    \n",
    "    second.next = third    # link second node with third node\n",
    "    \n",
    "    \n",
    "    '''\n",
    "    Now next of second Node refers to third. So all three\n",
    "    nodes are linked.\n",
    " \n",
    "    llist.head     second             third\n",
    "        |             |                 |\n",
    "        |             |                 |\n",
    "    +----+------+     +----+------+     +----+------+\n",
    "    | 1 | o-------->| 2 | o-------->| 3 | null |\n",
    "    +----+------+     +----+------+     +----+------+\n",
    "    '''"
   ]
  },
  {
   "cell_type": "markdown",
   "id": "894b0f62",
   "metadata": {},
   "source": [
    "### Stack\n",
    "\n",
    "A stack is a linear data structure that stores items in a Last-In/First-Out (LIFO) or First-In/Last-Out (FILO) manner. In stack, a new element is added at one end and an element is removed from that end only. The insert and delete operations are often called push and pop.\n",
    "\n",
    "\n",
    "The functions associated with stack are:\n",
    "\n",
    "1. empty() – Returns whether the stack is empty – Time Complexity: O(1)\n",
    "2. size() – Returns the size of the stack – Time Complexity: O(1)\n",
    "3. top() – Returns a reference to the topmost element of the stack – Time Complexity: O(1)\n",
    "4. push(a) – Inserts the element ‘a’ at the top of the stack – Time Complexity: O(1)\n",
    "5. pop() – Deletes the topmost element of the stack – Time Complexity: O(1)"
   ]
  },
  {
   "cell_type": "code",
   "execution_count": 31,
   "id": "94544275",
   "metadata": {},
   "outputs": [
    {
     "name": "stdout",
     "output_type": "stream",
     "text": [
      "Initial Stack  ['a', 'b', 'c']\n"
     ]
    }
   ],
   "source": [
    "stack = []\n",
    "\n",
    "# append function to push \n",
    "# the element in stack\n",
    "\n",
    "stack.append('a')\n",
    "stack.append('b')\n",
    "stack.append('c')\n",
    "\n",
    "print('Initial Stack ', stack)"
   ]
  },
  {
   "cell_type": "code",
   "execution_count": 32,
   "id": "b29a0a92",
   "metadata": {},
   "outputs": [
    {
     "name": "stdout",
     "output_type": "stream",
     "text": [
      "\n",
      "Elements popped from stack:\n",
      "c\n",
      "b\n",
      "a\n"
     ]
    }
   ],
   "source": [
    "# pop() function to pop\n",
    "# element from stack in\n",
    "# LIFO order\n",
    "print('\\nElements popped from stack:')\n",
    "print(stack.pop())\n",
    "print(stack.pop())\n",
    "print(stack.pop())"
   ]
  },
  {
   "cell_type": "code",
   "execution_count": 33,
   "id": "92b09e07",
   "metadata": {},
   "outputs": [
    {
     "name": "stdout",
     "output_type": "stream",
     "text": [
      "\n",
      "Stack after elements are popped:\n",
      "[]\n"
     ]
    }
   ],
   "source": [
    "print('\\nStack after elements are popped:')\n",
    "print(stack)\n",
    " \n",
    "# uncommenting print(stack.pop())\n",
    "# will cause an IndexError\n",
    "# as the stack is now empty"
   ]
  },
  {
   "cell_type": "code",
   "execution_count": null,
   "id": "3490660f",
   "metadata": {},
   "outputs": [],
   "source": []
  },
  {
   "cell_type": "markdown",
   "id": "3406b3a8",
   "metadata": {},
   "source": [
    "### Queue\n",
    "\n",
    "As a stack, the queue is a linear data structure that stores items in a First In First Out (FIFO) manner. With a queue, the least recently added item is removed first. A good example of the queue is any queue of consumers for a resource where the consumer that came first is served first.\n",
    "\n",
    "Operations associated with queue are:\n",
    "\n",
    "1. Enqueue: Adds an item to the queue. If the queue is full, then it is said to be an Overflow condition – Time Complexity: O(1)\n",
    "2. Dequeue: Removes an item from the queue. The items are popped in the same order in which they are pushed. If the queue is empty, then it is said to be an Underflow condition – Time Complexity: O(1)\n",
    "3. Front: Get the front item from queue – Time Complexity: O(1)\n",
    "4. Rear: Get the last item from queue – Time Complexity: O(1)"
   ]
  },
  {
   "cell_type": "code",
   "execution_count": 36,
   "id": "2ee2ad52",
   "metadata": {},
   "outputs": [
    {
     "name": "stdout",
     "output_type": "stream",
     "text": [
      "Initial queue\n",
      "['g', 'f', 'g']\n",
      "\n",
      "Elements dequeued from queue\n",
      "g\n",
      "f\n",
      "g\n",
      "\n",
      "Queue after removing elements\n",
      "[]\n"
     ]
    }
   ],
   "source": [
    "# Initializing a queue\n",
    "queue = []\n",
    " \n",
    "# Adding elements to the queue\n",
    "queue.append('g')\n",
    "queue.append('f')\n",
    "queue.append('g')\n",
    " \n",
    "print(\"Initial queue\")\n",
    "print(queue)\n",
    " \n",
    "# Removing elements from the queue\n",
    "print(\"\\nElements dequeued from queue\")\n",
    "print(queue.pop(0))\n",
    "print(queue.pop(0))\n",
    "print(queue.pop(0))\n",
    " \n",
    "print(\"\\nQueue after removing elements\")\n",
    "print(queue)\n",
    " \n",
    "# Uncommenting print(queue.pop(0))\n",
    "# will raise and IndexError\n",
    "# as the queue is now empty|"
   ]
  },
  {
   "cell_type": "code",
   "execution_count": null,
   "id": "33d6d2c1",
   "metadata": {},
   "outputs": [],
   "source": []
  }
 ],
 "metadata": {
  "kernelspec": {
   "display_name": "Python 3 (ipykernel)",
   "language": "python",
   "name": "python3"
  },
  "language_info": {
   "codemirror_mode": {
    "name": "ipython",
    "version": 3
   },
   "file_extension": ".py",
   "mimetype": "text/x-python",
   "name": "python",
   "nbconvert_exporter": "python",
   "pygments_lexer": "ipython3",
   "version": "3.11.5"
  }
 },
 "nbformat": 4,
 "nbformat_minor": 5
}
