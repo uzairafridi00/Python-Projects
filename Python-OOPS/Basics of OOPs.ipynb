{
 "cells": [
  {
   "cell_type": "markdown",
   "id": "66c40bcf",
   "metadata": {},
   "source": [
    "## What Is Object-Oriented Programming (OOPs) in python?\n",
    "In Python, OOPs stands for Object-Oriented Programming. It is a programming paradigm that focuses on the use of objects and classes to create programs. An object is a group of interrelated variables and functions. These variables are often referred to as properties of the object, and functions are referred to as the behavior of the objects. These objects provide a better and clear structure for the program. Main principles of OOPs in Python are abstraction, encapsulation, inheritance, and polymorphism.\n",
    "\n",
    "Abstraction refers to the ability to hide the implementation details of an object from the user, while still providing a simple and easy-to-use interface. Encapsulation refers to the practice of combining data and methods within a class to protect the data from external interference. Inheritance is a way to create new classes based on existing ones, allowing the new classes to inherit the attributes and methods of the parent class. Finally, polymorphism allows objects of different classes to be treated as if they were of the same class, making it possible to write generic code that can work with a variety of objects."
   ]
  },
  {
   "cell_type": "markdown",
   "id": "9aa72f61",
   "metadata": {},
   "source": [
    "## Example of OOPs\n",
    "\n",
    "For example, a car can be an object. If we consider the car as an object, its properties would be its color, model, price, brand, etc. And its behavior/function would be acceleration, slowing down, and gear change.\n",
    "\n",
    "Another example – If we consider a dog as an object then its properties would be its color, breed, name, weight, etc., and its behavior/function would be walking, barking, playing, etc."
   ]
  },
  {
   "cell_type": "markdown",
   "id": "37704546",
   "metadata": {},
   "source": [
    "## Object Oriented Programming/ OOPs Concepts in Python\n",
    "In this section, we will dive deep into the basic concepts of object oriented programming. Here is list of OOP’s concepts given below:\n",
    "\n",
    "1. Class\n",
    "2. Object\n",
    "3. Method\n",
    "4. Inheritance\n",
    "5. Class Constructor\n",
    "6. Polymorphism\n",
    "7. Data Abstraction\n",
    "8. Encapsulation"
   ]
  },
  {
   "cell_type": "code",
   "execution_count": 1,
   "id": "358d8836",
   "metadata": {},
   "outputs": [],
   "source": [
    "# A class is a collection of objects.\n",
    "# Unlike primitive data structures, classes are data structures that the user defines.\n",
    "\n",
    "class class_name:\n",
    "    # class body\n",
    "    pass"
   ]
  },
  {
   "cell_type": "code",
   "execution_count": 2,
   "id": "ce281753",
   "metadata": {},
   "outputs": [],
   "source": [
    "class Car:\n",
    "    pass"
   ]
  },
  {
   "cell_type": "code",
   "execution_count": 4,
   "id": "20fa9dd6",
   "metadata": {},
   "outputs": [
    {
     "name": "stdout",
     "output_type": "stream",
     "text": [
      "<__main__.Car object at 0x0000022B0B087610>\n"
     ]
    }
   ],
   "source": [
    "obj1 = Car()\n",
    "print(obj1)"
   ]
  },
  {
   "cell_type": "code",
   "execution_count": 5,
   "id": "3700ee87",
   "metadata": {},
   "outputs": [],
   "source": [
    "# now defining the constructor\n",
    "# This __init__() method is also known as the constructor method\n",
    "\n",
    "class Car:\n",
    "    def __init__(self, name, color):\n",
    "        self.name = name\n",
    "        self.color = color"
   ]
  },
  {
   "cell_type": "code",
   "execution_count": 6,
   "id": "f2d3dfee",
   "metadata": {},
   "outputs": [],
   "source": [
    "# suppose we have only Sedan cars so we create the constant\n",
    "\n",
    "class Car:\n",
    "    car_type = \"Sedan\"                 #class attribute\n",
    "    def __init__(self, name, color):\n",
    "        self.name = name               #instance attribute   \n",
    "        self.color = color             #instance attribute"
   ]
  },
  {
   "cell_type": "code",
   "execution_count": 9,
   "id": "e89fbb90",
   "metadata": {},
   "outputs": [],
   "source": [
    "class Car:\n",
    "    car_type = \"Sedan\"\n",
    "    \n",
    "    def __init__(self, name, mileage):\n",
    "        self.name = name\n",
    "        self.mileage = mileage\n",
    "        \n",
    "    def description(self):\n",
    "        return f\"The {self.name} car gives the mileage of {self.mileage}km/l\"\n",
    "    \n",
    "    def max_speed(self, speed):\n",
    "        return f\"The {self.name} runs at the maximum speed of {speed}km/hr\"\n",
    "    "
   ]
  },
  {
   "cell_type": "code",
   "execution_count": 10,
   "id": "0a4c42c1",
   "metadata": {},
   "outputs": [
    {
     "name": "stdout",
     "output_type": "stream",
     "text": [
      "The Honda City car gives the mileage of 24.1km/l\n",
      "The Honda City runs at the maximum speed of 150km/hr\n"
     ]
    }
   ],
   "source": [
    "obj2 = Car(\"Honda City\", 24.1)\n",
    "print(obj2.description())\n",
    "print(obj2.max_speed(150))"
   ]
  },
  {
   "cell_type": "code",
   "execution_count": 11,
   "id": "d068c804",
   "metadata": {},
   "outputs": [
    {
     "name": "stdout",
     "output_type": "stream",
     "text": [
      "The Skoda Octavia runs at the maximum speed of 210km/hr\n"
     ]
    }
   ],
   "source": [
    "Skoda = Car(\"Skoda Octavia\",13)\n",
    "print(Skoda.max_speed(210))"
   ]
  },
  {
   "cell_type": "markdown",
   "id": "10801600",
   "metadata": {},
   "source": [
    "## Inheritance\n",
    "\n",
    "Inheritance is the procedure in which one class inherits the attributes and methods of another class.  The class whose properties and methods are inherited is known as the Parent class. And the class that inherits the properties from the parent class is the Child class."
   ]
  },
  {
   "cell_type": "code",
   "execution_count": 12,
   "id": "3f07c316",
   "metadata": {},
   "outputs": [],
   "source": [
    "class Parent_Class:\n",
    "    pass\n",
    "\n",
    "class Child_Class(Parent_Class):\n",
    "    pass"
   ]
  },
  {
   "cell_type": "code",
   "execution_count": 13,
   "id": "8f1f757a",
   "metadata": {},
   "outputs": [],
   "source": [
    "class Car:          # Parent class\n",
    "\n",
    "    def __init__(self, name, mileage):\n",
    "        self.name = name \n",
    "        self.mileage = mileage \n",
    "\n",
    "    def description(self):                \n",
    "        return f\"The {self.name} car gives the mileage of {self.mileage}km/l\"\n",
    "\n",
    "\n",
    "class BMW(Car):     # Child Class\n",
    "    pass\n",
    "\n",
    "class Audi(Car):    # Child Class\n",
    "    def audi_description(self):\n",
    "        return \"This is the description method of class Audi\"\n",
    "    "
   ]
  },
  {
   "cell_type": "code",
   "execution_count": 14,
   "id": "047aa35e",
   "metadata": {},
   "outputs": [
    {
     "name": "stdout",
     "output_type": "stream",
     "text": [
      "The BMW 7-series car gives the mileage of 39.53km/l\n"
     ]
    }
   ],
   "source": [
    "bmw = BMW(\"BMW 7-series\",39.53)\n",
    "print(bmw.description())"
   ]
  },
  {
   "cell_type": "code",
   "execution_count": 15,
   "id": "7e6b069e",
   "metadata": {},
   "outputs": [
    {
     "name": "stdout",
     "output_type": "stream",
     "text": [
      "The Audi A8 L car gives the mileage of 14km/l\n",
      "This is the description method of class Audi\n"
     ]
    }
   ],
   "source": [
    "audi = Audi(\"Audi A8 L\",14)\n",
    "print(audi.description())\n",
    "print(audi.audi_description())"
   ]
  },
  {
   "cell_type": "code",
   "execution_count": null,
   "id": "0f9f9352",
   "metadata": {},
   "outputs": [],
   "source": []
  }
 ],
 "metadata": {
  "kernelspec": {
   "display_name": "Python 3 (ipykernel)",
   "language": "python",
   "name": "python3"
  },
  "language_info": {
   "codemirror_mode": {
    "name": "ipython",
    "version": 3
   },
   "file_extension": ".py",
   "mimetype": "text/x-python",
   "name": "python",
   "nbconvert_exporter": "python",
   "pygments_lexer": "ipython3",
   "version": "3.11.5"
  }
 },
 "nbformat": 4,
 "nbformat_minor": 5
}
