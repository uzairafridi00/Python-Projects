{
 "cells": [
  {
   "cell_type": "code",
   "execution_count": 6,
   "id": "e9b8518b",
   "metadata": {},
   "outputs": [
    {
     "name": "stdout",
     "output_type": "stream",
     "text": [
      "Hello Py thon Developer  \n",
      "Github Link : github.com/ uzairafridi00  \n",
      " \n"
     ]
    }
   ],
   "source": [
    "# Extract Text from PDF with Python\n",
    "# pip install PyPDF2\n",
    "\n",
    "import PyPDF2\n",
    "\n",
    "pdf_path = \"anyPDFfile.pdf\"\n",
    "\n",
    "with open(pdf_path, mode=\"rb\") as pdf:\n",
    "    reader = PyPDF2.PdfReader(pdf)\n",
    "    page = reader.pages[0]  # Use square brackets instead of parentheses\n",
    "    text = page.extract_text()\n",
    "    print(text)"
   ]
  },
  {
   "cell_type": "code",
   "execution_count": null,
   "id": "713c66e0",
   "metadata": {},
   "outputs": [],
   "source": [
    "pip install PyPDF2"
   ]
  },
  {
   "cell_type": "code",
   "execution_count": null,
   "id": "1085e58d",
   "metadata": {},
   "outputs": [],
   "source": []
  }
 ],
 "metadata": {
  "kernelspec": {
   "display_name": "Python 3 (ipykernel)",
   "language": "python",
   "name": "python3"
  },
  "language_info": {
   "codemirror_mode": {
    "name": "ipython",
    "version": 3
   },
   "file_extension": ".py",
   "mimetype": "text/x-python",
   "name": "python",
   "nbconvert_exporter": "python",
   "pygments_lexer": "ipython3",
   "version": "3.11.5"
  }
 },
 "nbformat": 4,
 "nbformat_minor": 5
}
